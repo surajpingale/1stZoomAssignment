{
  "nbformat": 4,
  "nbformat_minor": 0,
  "metadata": {
    "colab": {
      "provenance": [],
      "toc_visible": true,
      "authorship_tag": "ABX9TyPiO+c7nU57XL2Bkc15p6ln",
      "include_colab_link": true
    },
    "kernelspec": {
      "name": "python3",
      "display_name": "Python 3"
    },
    "language_info": {
      "name": "python"
    }
  },
  "cells": [
    {
      "cell_type": "markdown",
      "metadata": {
        "id": "view-in-github",
        "colab_type": "text"
      },
      "source": [
        "<a href=\"https://colab.research.google.com/github/surajpingale/1stZoomAssignment/blob/master/Vidyanix_Tensorflow_Tutorial.ipynb\" target=\"_parent\"><img src=\"https://colab.research.google.com/assets/colab-badge.svg\" alt=\"Open In Colab\"/></a>"
      ]
    },
    {
      "cell_type": "markdown",
      "source": [
        "# **Day 1 - Tensorflow basics**\n",
        "\n",
        "**Date - 25-01-2025**\n",
        "\n",
        "*   Import Tesnsorflow"
      ],
      "metadata": {
        "id": "mUFQuNj0IG2I"
      }
    },
    {
      "cell_type": "code",
      "execution_count": 1,
      "metadata": {
        "id": "HYoh3ScMrX5E"
      },
      "outputs": [],
      "source": [
        "import tensorflow as tf"
      ]
    },
    {
      "cell_type": "code",
      "source": [
        "print(tf.__version__)"
      ],
      "metadata": {
        "colab": {
          "base_uri": "https://localhost:8080/"
        },
        "id": "J7RXEEvYs9oM",
        "outputId": "2acc8b44-a1b3-4213-e9e6-13e6c77ca4b7"
      },
      "execution_count": 2,
      "outputs": [
        {
          "output_type": "stream",
          "name": "stdout",
          "text": [
            "2.18.0\n"
          ]
        }
      ]
    },
    {
      "cell_type": "code",
      "source": [
        "tensor = tf.constant([1,2,3,4])\n",
        "\n",
        "print(tensor)\n",
        "\n",
        "tensor_plus_5 = tensor + 5\n",
        "print(tensor_plus_5)"
      ],
      "metadata": {
        "colab": {
          "base_uri": "https://localhost:8080/"
        },
        "id": "40gYZCuOtEZr",
        "outputId": "2cef5379-29a8-4b95-ae6c-1601cc294cb6"
      },
      "execution_count": 3,
      "outputs": [
        {
          "output_type": "stream",
          "name": "stdout",
          "text": [
            "tf.Tensor([1 2 3 4], shape=(4,), dtype=int32)\n",
            "tf.Tensor([6 7 8 9], shape=(4,), dtype=int32)\n"
          ]
        }
      ]
    },
    {
      "cell_type": "markdown",
      "source": [
        "**Creating Tensors**"
      ],
      "metadata": {
        "id": "HIopZTpbI-fa"
      }
    },
    {
      "cell_type": "code",
      "source": [
        "# A simple 1d tensor\n",
        "tensor1 = tf.constant([1,2,3])\n",
        "# A random 2d tensor\n",
        "tensor2 = tf.random.uniform(shape = [3,3], maxval= 20, dtype= tf.int32)\n",
        "\n",
        "print(tensor1)\n",
        "print(tensor2)"
      ],
      "metadata": {
        "colab": {
          "base_uri": "https://localhost:8080/"
        },
        "id": "HethGTiwJJmy",
        "outputId": "b65b9bc3-c8d6-4494-f467-322627643137"
      },
      "execution_count": 4,
      "outputs": [
        {
          "output_type": "stream",
          "name": "stdout",
          "text": [
            "tf.Tensor([1 2 3], shape=(3,), dtype=int32)\n",
            "tf.Tensor(\n",
            "[[19 12  6]\n",
            " [ 1  6 19]\n",
            " [11  5  5]], shape=(3, 3), dtype=int32)\n"
          ]
        }
      ]
    },
    {
      "cell_type": "markdown",
      "source": [
        "Tensor Operation"
      ],
      "metadata": {
        "id": "uT9rufuuLRa6"
      }
    },
    {
      "cell_type": "code",
      "source": [
        "# Add\n",
        "result_add = tf.add(tensor1, [3,2,1]) # Adding 2 tensors\n",
        "\n",
        "print(result_add)"
      ],
      "metadata": {
        "colab": {
          "base_uri": "https://localhost:8080/"
        },
        "id": "XXKA3RbiLWjz",
        "outputId": "283c1ef3-8e0b-4149-89da-9a8121970a3c"
      },
      "execution_count": 5,
      "outputs": [
        {
          "output_type": "stream",
          "name": "stdout",
          "text": [
            "tf.Tensor([4 4 4], shape=(3,), dtype=int32)\n"
          ]
        }
      ]
    },
    {
      "cell_type": "code",
      "source": [
        "# Multiply\n",
        "result_mul = tf.multiply(tensor1, [3,5,2]) # Multiplying tensors\n",
        "print(result_mul)\n"
      ],
      "metadata": {
        "colab": {
          "base_uri": "https://localhost:8080/"
        },
        "id": "wgKOa0M7MCDz",
        "outputId": "4574075c-066e-4319-d485-327fee3392f9"
      },
      "execution_count": 6,
      "outputs": [
        {
          "output_type": "stream",
          "name": "stdout",
          "text": [
            "tf.Tensor([ 3 10  6], shape=(3,), dtype=int32)\n"
          ]
        }
      ]
    },
    {
      "cell_type": "markdown",
      "source": [
        "**Homework**\n",
        "\n",
        "*  Create at least 3 tensors using tf.\n",
        "constant and tf.random.uniform.\n",
        "*  Try adding and multiplying them using the operations we just learned.\n",
        "* Bonus: Try to make a 3D tensor (like a cube of numbers! 🌐)"
      ],
      "metadata": {
        "id": "OYcpBEOeMAet"
      }
    },
    {
      "cell_type": "code",
      "source": [
        "hw_tensor1 = tf.constant([[10,20,30],[11,22,33]])\n",
        "hw_tensor2 = tf.random.uniform(shape = [2,3], maxval= 20, dtype= tf.int32)\n",
        "hw_tensor3 = tf.constant([[20,30,40],[20,40,20]])\n",
        "\n",
        "# Adding hw_tensor1 and hw_tensor2\n",
        "hw_result_1 = tf.add(hw_tensor1, hw_tensor2)\n",
        "\n",
        "# Adding hw_tensor3 to above tensors\n",
        "hw_result_add = tf.add(hw_result_1, hw_tensor3)\n",
        "\n",
        "tensor_list = [hw_tensor1, hw_tensor2, hw_tensor3]\n",
        "\n",
        "for index, tensor in enumerate(tensor_list):\n",
        "  print(f\"{index + 1} tensor: \\n{tensor}\")\n",
        "\n",
        "\n",
        "hw_multiply_result = tf.constant([[1,1,1],[1,1,1]])\n",
        "\n",
        "for i, tensor in enumerate(tensor_list):\n",
        "  hw_multiply_result = tf.multiply(hw_multiply_result, tensor)\n",
        "\n",
        "\n",
        "print(f\"random 2x3 tensor: \\n{hw_tensor2}\")\n",
        "print(f\"result: \\n{hw_result_add}\")\n",
        "print(f\"multiply result: \\n{hw_multiply_result}\")"
      ],
      "metadata": {
        "colab": {
          "base_uri": "https://localhost:8080/"
        },
        "id": "JgMNwWTYNbwT",
        "outputId": "55ccb370-8245-402e-b906-2d49898a9e01"
      },
      "execution_count": 7,
      "outputs": [
        {
          "output_type": "stream",
          "name": "stdout",
          "text": [
            "1 tensor: \n",
            "[[10 20 30]\n",
            " [11 22 33]]\n",
            "2 tensor: \n",
            "[[ 4 12 19]\n",
            " [ 0  3 16]]\n",
            "3 tensor: \n",
            "[[20 30 40]\n",
            " [20 40 20]]\n",
            "random 2x3 tensor: \n",
            "[[ 4 12 19]\n",
            " [ 0  3 16]]\n",
            "result: \n",
            "[[34 62 89]\n",
            " [31 65 69]]\n",
            "multiply result: \n",
            "[[  800  7200 22800]\n",
            " [    0  2640 10560]]\n"
          ]
        }
      ]
    },
    {
      "cell_type": "markdown",
      "source": [
        "# Day 1: Welcome to TensorFlow – The Beginning of Vidyanix! 🎉\n",
        "\n",
        "**Date - 08-02-2025**"
      ],
      "metadata": {
        "id": "dn5H1fTf-tL9"
      }
    },
    {
      "cell_type": "code",
      "source": [
        "import tensorflow as tf\n",
        "\n",
        "print(\"Hello, Vidyanix! 🚀\")\n",
        "print(f\"TensorFlow Version: {tf.__version__}\")"
      ],
      "metadata": {
        "colab": {
          "base_uri": "https://localhost:8080/"
        },
        "id": "xPtBnhc2_G_v",
        "outputId": "6fcd834a-0e77-4338-a7ba-44c0e8ceb4a2"
      },
      "execution_count": 8,
      "outputs": [
        {
          "output_type": "stream",
          "name": "stdout",
          "text": [
            "Hello, Vidyanix! 🚀\n",
            "TensorFlow Version: 2.18.0\n"
          ]
        }
      ]
    },
    {
      "cell_type": "markdown",
      "source": [
        "### Scalars - Single numbers"
      ],
      "metadata": {
        "id": "h2EMDxY-ASTj"
      }
    },
    {
      "cell_type": "code",
      "source": [
        "scalar = tf.constant(10)\n",
        "print(scalar)"
      ],
      "metadata": {
        "colab": {
          "base_uri": "https://localhost:8080/"
        },
        "id": "im0U9jaI_uO3",
        "outputId": "00b45152-f1bc-4a3e-f2a1-6989d94c5a2f"
      },
      "execution_count": 9,
      "outputs": [
        {
          "output_type": "stream",
          "name": "stdout",
          "text": [
            "tf.Tensor(10, shape=(), dtype=int32)\n"
          ]
        }
      ]
    },
    {
      "cell_type": "markdown",
      "source": [
        "### Vectors - 1D Arrays"
      ],
      "metadata": {
        "id": "w8Vnge7dAuAb"
      }
    },
    {
      "cell_type": "code",
      "source": [
        "vector = tf.constant([2, 4, 5])\n",
        "print(vector)"
      ],
      "metadata": {
        "colab": {
          "base_uri": "https://localhost:8080/"
        },
        "id": "JWtaU9y8Am6E",
        "outputId": "c116024d-1e25-404c-f70f-3d2b34f32bd0"
      },
      "execution_count": 10,
      "outputs": [
        {
          "output_type": "stream",
          "name": "stdout",
          "text": [
            "tf.Tensor([2 4 5], shape=(3,), dtype=int32)\n"
          ]
        }
      ]
    },
    {
      "cell_type": "markdown",
      "source": [
        "### Matrices - 2D Arrays"
      ],
      "metadata": {
        "id": "CsrsPQf1A7PD"
      }
    },
    {
      "cell_type": "code",
      "source": [
        "matrix = tf.constant([[1, 2], [3, 4]])\n",
        "print(matrix)"
      ],
      "metadata": {
        "colab": {
          "base_uri": "https://localhost:8080/"
        },
        "id": "68CLsDbCA5pn",
        "outputId": "379a3c2a-d534-41b3-c7b3-fc174fde77e6"
      },
      "execution_count": 11,
      "outputs": [
        {
          "output_type": "stream",
          "name": "stdout",
          "text": [
            "tf.Tensor(\n",
            "[[1 2]\n",
            " [3 4]], shape=(2, 2), dtype=int32)\n"
          ]
        }
      ]
    },
    {
      "cell_type": "markdown",
      "source": [
        "### Random Tensors - AI's surprice! 🎲"
      ],
      "metadata": {
        "id": "IwDcEp2wBONU"
      }
    },
    {
      "cell_type": "code",
      "source": [
        "random_tensor = tf.random.uniform(shape=(2, 3), minval=0, maxval=10, dtype=tf.int32)\n",
        "print(random_tensor)"
      ],
      "metadata": {
        "colab": {
          "base_uri": "https://localhost:8080/"
        },
        "id": "EbssaZVjBMY-",
        "outputId": "b8ed8aec-c806-4770-b4ae-47dae9f0466d"
      },
      "execution_count": 12,
      "outputs": [
        {
          "output_type": "stream",
          "name": "stdout",
          "text": [
            "tf.Tensor(\n",
            "[[8 6 2]\n",
            " [4 3 8]], shape=(2, 3), dtype=int32)\n"
          ]
        }
      ]
    },
    {
      "cell_type": "markdown",
      "source": [
        "### Practice day 1\n",
        "* 1️. Create a tensor of shape (3,3) filled with numbers 5, 10, 15, ... 45.\n",
        "* 2️. Generate a random tensor of shape (4,4) between 0 and 100."
      ],
      "metadata": {
        "id": "juPOlUiZKaHE"
      }
    },
    {
      "cell_type": "code",
      "source": [
        "tensor_3X3 = tf.reshape(tf.range(5, 50, 5), shape=(3, 3))\n",
        "\n",
        "print(tensor_3X3)\n",
        "\n",
        "random_4x4 = tf.random.uniform((4, 4), minval=0, maxval= 100, dtype=tf.float32)\n",
        "print(random_4x4)"
      ],
      "metadata": {
        "colab": {
          "base_uri": "https://localhost:8080/"
        },
        "id": "ISwKNJCtBjpO",
        "outputId": "00748d5a-c291-44bd-d550-8b68c3627914"
      },
      "execution_count": 13,
      "outputs": [
        {
          "output_type": "stream",
          "name": "stdout",
          "text": [
            "tf.Tensor(\n",
            "[[ 5 10 15]\n",
            " [20 25 30]\n",
            " [35 40 45]], shape=(3, 3), dtype=int32)\n",
            "tf.Tensor(\n",
            "[[37.270428  55.872345  68.930695  22.843493 ]\n",
            " [20.552385  24.939596  12.918043  88.31707  ]\n",
            " [ 0.6911278 77.815285  38.446594  91.98844  ]\n",
            " [17.927467  45.378387  49.878395   4.226303 ]], shape=(4, 4), dtype=float32)\n"
          ]
        }
      ]
    },
    {
      "cell_type": "markdown",
      "source": [
        "### 🏠 Homework Day 1 Challenge 📝\n",
        "Try the following in Google Colab:\n",
        "\n",
        "* 1️⃣ Create a 3x3 tensor where each row contains the numbers [10, 20, 30], [40, 50, 60], and [70, 80, 90].\n",
        "\n",
        "* 2️⃣ Multiply two random tensors of shape (2,3).\n",
        "\n",
        "* 3️⃣ Create a tensor representing a math equation!\n",
        "Example: tf.constant([3, '+', 5, '=', 8]) (Tip: You can’t store +, so use numbers only!)"
      ],
      "metadata": {
        "id": "1TnEpcc3NCur"
      }
    },
    {
      "cell_type": "code",
      "source": [
        "fixed_tensor = tf.constant([[10, 20, 30], [40, 50, 60], [70, 80, 90]])\n",
        "fixed_tensor"
      ],
      "metadata": {
        "id": "kPr5V3eCLclD",
        "colab": {
          "base_uri": "https://localhost:8080/"
        },
        "outputId": "a3e02d52-fd1d-4390-eb54-a8f1168513b7"
      },
      "execution_count": 14,
      "outputs": [
        {
          "output_type": "execute_result",
          "data": {
            "text/plain": [
              "<tf.Tensor: shape=(3, 3), dtype=int32, numpy=\n",
              "array([[10, 20, 30],\n",
              "       [40, 50, 60],\n",
              "       [70, 80, 90]], dtype=int32)>"
            ]
          },
          "metadata": {},
          "execution_count": 14
        }
      ]
    },
    {
      "cell_type": "code",
      "source": [
        "math_eqn = tf.constant([3, 5, 8])\n",
        "math_eqn"
      ],
      "metadata": {
        "colab": {
          "base_uri": "https://localhost:8080/"
        },
        "id": "9MMMgvHt8Bd8",
        "outputId": "60f20eae-8a77-48c2-b8ea-0a9f35b9c3ef"
      },
      "execution_count": 15,
      "outputs": [
        {
          "output_type": "execute_result",
          "data": {
            "text/plain": [
              "<tf.Tensor: shape=(3,), dtype=int32, numpy=array([3, 5, 8], dtype=int32)>"
            ]
          },
          "metadata": {},
          "execution_count": 15
        }
      ]
    },
    {
      "cell_type": "code",
      "source": [
        "random_1 = tf.random.uniform(shape=(2, 3), maxval= 10, minval=1, dtype= tf.float32)\n",
        "random_2 = tf.random.uniform(shape=(2, 3), minval = 1, maxval= 10, dtype=tf.float32)\n",
        "multiply_result = tf.multiply(random_1, random_2)\n",
        "print(multiply_result)"
      ],
      "metadata": {
        "id": "tgFwpiA690fz",
        "colab": {
          "base_uri": "https://localhost:8080/"
        },
        "outputId": "ed17678f-80b6-4749-d075-c44ea5cda805"
      },
      "execution_count": 16,
      "outputs": [
        {
          "output_type": "stream",
          "name": "stdout",
          "text": [
            "tf.Tensor(\n",
            "[[11.070448 13.668806  4.988994]\n",
            " [31.25562  22.774305 37.771633]], shape=(2, 3), dtype=float32)\n"
          ]
        }
      ]
    },
    {
      "cell_type": "markdown",
      "source": [
        "# Day 2: Tensor Shapes & Dimensions – The Art of Reshaping! 🔥\n",
        "\n",
        "**Date - 13-02-2025**\n",
        "\n",
        "📌 What’s on the menu today?\n",
        " * 1️⃣. What is a tensor’s shape, rank, and dimension (sounds fancy, but it’s easy 😆)\n",
        " * 2️⃣. Reshaping tensors like rearranging furniture! 🛋️\n",
        " * 3️⃣. Expanding and squeezing tensors (Don’t worry, no gym required 💪😂)\n",
        " * 4️⃣. Broadcasting – TensorFlow’s shortcut to math magic! 🪄"
      ],
      "metadata": {
        "id": "A3Wv950jgBAD"
      }
    },
    {
      "cell_type": "markdown",
      "source": [
        "### 🧩 1️⃣ Understanding Shape, Rank & Dimension\n",
        "Every tensor has three main things:\n",
        "* ✔️ Shape: The number of elements in each dimension (like how many rows & columns a table has).\n",
        "* ✔️ Rank: The number of dimensions (1D, 2D, 3D… how deep does the rabbit hole go? 🕳️🐇)\n",
        "* ✔️ Axis: The position of dimensions (like X, Y, and Z in a 3D world 🌍)\n",
        "\n",
        "\n",
        "🤔 Where will this be used in Vidyanix?\n",
        "\n",
        "* When generating math problems, we need to shape data properly.\n",
        "* Example: A dataset of 1000 questions might be stored as a (1000, 2) tensor (question + answer)."
      ],
      "metadata": {
        "id": "Mm9ktXiQh_A7"
      }
    },
    {
      "cell_type": "code",
      "source": [
        "import tensorflow as tf\n",
        "\n",
        "# Create a tensor\n",
        "tensor_1 = tf.constant([[1, 2, 3], [4, 5, 6]])\n",
        "\n",
        "# Check its shape, rank, and dimensions\n",
        "print(f\"Tensor Shape: {tensor_1.shape}\")\n",
        "print(f\"Tensor Rank: {tf.rank(tensor_1)}\")\n",
        "print(f\"Tensor Dimensions: {tensor_1.ndim}\")"
      ],
      "metadata": {
        "colab": {
          "base_uri": "https://localhost:8080/"
        },
        "id": "yIZNA7M0fn8b",
        "outputId": "0aa85846-67b8-48a1-d01d-b5305d027c99"
      },
      "execution_count": 17,
      "outputs": [
        {
          "output_type": "stream",
          "name": "stdout",
          "text": [
            "Tensor Shape: (2, 3)\n",
            "Tensor Rank: 2\n",
            "Tensor Dimensions: 2\n"
          ]
        }
      ]
    },
    {
      "cell_type": "markdown",
      "source": [
        "### 🔄 2️⃣ Reshaping Tensors – The Art of Rearranging!\n",
        "Think of reshaping as reorganizing furniture in your room but keeping the same total space. 😆\n",
        "\n",
        "💡 Where in Vidyanix?\n",
        "\n",
        "* Suppose we store math problems in a long list.\n",
        "* We might need to reshape them into (question, answer) pairs!"
      ],
      "metadata": {
        "id": "sn4aPyTSjuNe"
      }
    },
    {
      "cell_type": "code",
      "source": [
        "# 1D tensor\n",
        "tensor_2 = tf.constant([1, 2, 3, 4, 5, 6])\n",
        "\n",
        "# Reshape into a 2x3 tensor\n",
        "reshaped_tensor = tf.reshape(tensor= tensor_2, shape= (2, 3))\n",
        "\n",
        "print(f\"Original: {tensor_2}\")\n",
        "print(f\"Reshaped: \\n{reshaped_tensor}\")"
      ],
      "metadata": {
        "colab": {
          "base_uri": "https://localhost:8080/"
        },
        "id": "wW-Yam4ai9M6",
        "outputId": "292859c8-3837-4893-cf3d-dcf9967a5b63"
      },
      "execution_count": 18,
      "outputs": [
        {
          "output_type": "stream",
          "name": "stdout",
          "text": [
            "Original: [1 2 3 4 5 6]\n",
            "Reshaped: \n",
            "[[1 2 3]\n",
            " [4 5 6]]\n"
          ]
        }
      ]
    },
    {
      "cell_type": "markdown",
      "source": [
        "### 📏 3️⃣ Expanding & Squeezing Dimensions\n",
        "* Expand_dims(): Adds an extra dimension (useful for deep learning).\n",
        "* Squeeze(): Removes unnecessary dimensions (makes things compact).\n",
        "\n",
        "💡 Where in Vidyanix?\n",
        "\n",
        "* When AI generates math questions, sometimes data has extra dimensions that need removing."
      ],
      "metadata": {
        "id": "xdNI0QY5kkF3"
      }
    },
    {
      "cell_type": "code",
      "source": [
        "tensor_3 = tf.constant([1, 2, 3])\n",
        "\n",
        "# Expand to 2D (adding a new axis at position 0)\n",
        "expanded = tf.expand_dims(tensor_3, axis = 0)\n",
        "\n",
        "# Squeezed it back (removing unnecessary axis)\n",
        "squeezed = tf.squeeze(expanded)\n",
        "\n",
        "print(f\"Exanded: \\n{expanded}\") # [[1, 2, 3]]\n",
        "print(f\"Squeezed: \\n{squeezed}\") # [1, 2, 3]"
      ],
      "metadata": {
        "colab": {
          "base_uri": "https://localhost:8080/"
        },
        "id": "UwZ99n5NkZ4r",
        "outputId": "f1763c11-e695-4805-fab4-797902bd89a9"
      },
      "execution_count": 19,
      "outputs": [
        {
          "output_type": "stream",
          "name": "stdout",
          "text": [
            "Exanded: \n",
            "[[1 2 3]]\n",
            "Squeezed: \n",
            "[1 2 3]\n"
          ]
        }
      ]
    },
    {
      "cell_type": "markdown",
      "source": [
        "### 🔥 4️⃣ Broadcasting – The Magic Math Trick!\n",
        "Broadcasting lets TensorFlow magically adjust shapes when performing operations.\n",
        "Example: Adding a (3,3) matrix to a single number (scalar).\n",
        "\n",
        "💡 Where in Vidyanix?\n",
        "\n",
        "* Suppose we want to **add a fixed bonus of 10 points to all students’ scores** stored in a tensor.\n",
        "* Instead of manually adding 10 to each, **broadcasting does it instantly!** 🚀"
      ],
      "metadata": {
        "id": "NE1inDt3l1_L"
      }
    },
    {
      "cell_type": "code",
      "source": [
        "# Shape(2, 3)\n",
        "tensor_4 = tf.constant([[1, 2, 3], [4, 5, 6], [7, 8, 9]])\n",
        "# Shape()\n",
        "scalar = tf.constant(5)\n",
        "\n",
        "result = tensor_4 + scalar # Broadcasting happens!\n",
        "print(f\"Broadcasted: \\n{result}\")\n"
      ],
      "metadata": {
        "colab": {
          "base_uri": "https://localhost:8080/"
        },
        "id": "cYhZ61EDlnMb",
        "outputId": "432d0f86-66d5-44ad-9b98-e3bb3cb49d2d"
      },
      "execution_count": 20,
      "outputs": [
        {
          "output_type": "stream",
          "name": "stdout",
          "text": [
            "Broadcasted: \n",
            "[[ 6  7  8]\n",
            " [ 9 10 11]\n",
            " [12 13 14]]\n"
          ]
        }
      ]
    },
    {
      "cell_type": "markdown",
      "source": [
        "### 🏠 Homework Day 2 – Only from Today’s Learning! 😁\n",
        "💪 Try these in Colab!\n",
        "* 1️⃣ Create a tensor of shape (2,3,2) filled with numbers 1 to 12.\n",
        "* 2️⃣ Reshape a (4,4) tensor into (2,8).\n",
        "* 3️⃣ Expand dimensions of a 1D tensor into 3D.\n",
        "* 4️⃣ Broadcast a (3,3) tensor with a single scalar (any number)."
      ],
      "metadata": {
        "id": "LBfGdfdGngh1"
      }
    },
    {
      "cell_type": "code",
      "source": [
        "# 1.\n",
        "tensor_2x3x2 = tf.constant(tf.range(1, 13), shape= (2, 3, 2))\n",
        "print(f\"Tensor 2x3x2: \\n{tensor_2x3x2}\")\n",
        "\n",
        "# 2.\n",
        "tensor_4x4 = tf.constant(tf.range(1, 17), shape= (4, 4))\n",
        "print(f\"Tensor 4x4: \\n{tensor_4x4}\")\n",
        "print(f\"Reshaped 4x4 into 2x8: \\n{tf.reshape(tensor_4x4, shape= (2, 8))}\")\n",
        "\n",
        "# 3.\n",
        "before_expand =  tf.constant([1, 2, 3, 4, 5, 6])\n",
        "expanded_dim = tf.expand_dims(before_expand, axis= 0)\n",
        "expanded_dim = tf.expand_dims(expanded_dim, axis= -1)\n",
        "print(f\"Expaned tensor shape{expanded_dim.shape}: \\n{expanded_dim}\")\n",
        "\n",
        "# 4.\n",
        "tensor_3x3 = tf.constant([[1, 2, 3], [4, 5, 6], [7, 8, 9]])\n",
        "scalar = tf.constant(10)\n",
        "result = tensor_3x3 + scalar\n",
        "print(f\"Broadcasted: \\n{result}\")"
      ],
      "metadata": {
        "colab": {
          "base_uri": "https://localhost:8080/"
        },
        "id": "n-nEGLpXnSa5",
        "outputId": "9cdb2ba9-2f3d-49e1-b09e-1051793138b3"
      },
      "execution_count": 21,
      "outputs": [
        {
          "output_type": "stream",
          "name": "stdout",
          "text": [
            "Tensor 2x3x2: \n",
            "[[[ 1  2]\n",
            "  [ 3  4]\n",
            "  [ 5  6]]\n",
            "\n",
            " [[ 7  8]\n",
            "  [ 9 10]\n",
            "  [11 12]]]\n",
            "Tensor 4x4: \n",
            "[[ 1  2  3  4]\n",
            " [ 5  6  7  8]\n",
            " [ 9 10 11 12]\n",
            " [13 14 15 16]]\n",
            "Reshaped 4x4 into 2x8: \n",
            "[[ 1  2  3  4  5  6  7  8]\n",
            " [ 9 10 11 12 13 14 15 16]]\n",
            "Expaned tensor shape(1, 6, 1): \n",
            "[[[1]\n",
            "  [2]\n",
            "  [3]\n",
            "  [4]\n",
            "  [5]\n",
            "  [6]]]\n",
            "Broadcasted: \n",
            "[[11 12 13]\n",
            " [14 15 16]\n",
            " [17 18 19]]\n"
          ]
        }
      ]
    },
    {
      "cell_type": "markdown",
      "source": [
        "# Day 3: 🚀 Mission: Shape Manipulation & Advanced Tensor Operations! 🚀\n",
        "\n",
        "**Date - 13-02-2025**"
      ],
      "metadata": {
        "id": "7gnb2ZLnV6Gy"
      }
    },
    {
      "cell_type": "markdown",
      "source": [
        "### 🟢 1️⃣ Reshaping Like a Pro!\n",
        "Ever wanted to change the shape of your tensor without changing its data?\n",
        "That’s where reshaping comes in!\n",
        "\n",
        "\n",
        "🤔 Where in Vidyanix?\n",
        "* 📌 Changing data from one format to another before feeding it into the AI model."
      ],
      "metadata": {
        "id": "kaXKMXNQWKc8"
      }
    },
    {
      "cell_type": "code",
      "source": [
        "import tensorflow as tf\n",
        "\n",
        "tensor = tf.range(1, 13) #[1, 2, ..., 12]\n",
        "reshaped_tensor = tf.reshape(tensor, shape= (3, 4)) # 3 rows, 4 columns\n",
        "\n",
        "print(f\"Original tensor: \\n{tensor}\")\n",
        "print(f\"Reshaped tensor (3x4): \\n {reshaped_tensor}\")"
      ],
      "metadata": {
        "id": "wZu2KOXdo3zB",
        "colab": {
          "base_uri": "https://localhost:8080/"
        },
        "outputId": "a43f2e23-38f9-4d71-f0d3-5577c117c93a"
      },
      "execution_count": 22,
      "outputs": [
        {
          "output_type": "stream",
          "name": "stdout",
          "text": [
            "Original tensor: \n",
            "[ 1  2  3  4  5  6  7  8  9 10 11 12]\n",
            "Reshaped tensor (3x4): \n",
            " [[ 1  2  3  4]\n",
            " [ 5  6  7  8]\n",
            " [ 9 10 11 12]]\n"
          ]
        }
      ]
    },
    {
      "cell_type": "markdown",
      "source": [
        "### 🔵 2️⃣ Squeeze the Extra Dimensions!\n",
        "\n",
        "What if a tensor has unnecessary dimensions like (1, 3, 1, 4)?\n",
        "🔥 Squeezing removes them!\n",
        "\n",
        "🤔 Where in Vidyanix?\n",
        "* 📌 When we get extra dimensions in AI outputs, we squeeze them out!\n",
        "\n"
      ],
      "metadata": {
        "id": "KfxfB-meYCNl"
      }
    },
    {
      "cell_type": "code",
      "source": [
        "before_squeezed = tf.constant([[[[10, 20, 30, 40]]]]) # Shape (1, 1, 1, 4)\n",
        "squeezed = tf.squeeze(before_squeezed)\n",
        "\n",
        "print(f\"Original shape: \\n{before_squeezed.shape}\")\n",
        "print(f\"Squeezed shape: \\n{squeezed.shape}\")\n"
      ],
      "metadata": {
        "colab": {
          "base_uri": "https://localhost:8080/"
        },
        "id": "UY7km1MRXuH0",
        "outputId": "4bddae34-7ebb-4967-c8da-f843fe0355ca"
      },
      "execution_count": 23,
      "outputs": [
        {
          "output_type": "stream",
          "name": "stdout",
          "text": [
            "Original shape: \n",
            "(1, 1, 1, 4)\n",
            "Squeezed shape: \n",
            "(4,)\n"
          ]
        }
      ]
    },
    {
      "cell_type": "markdown",
      "source": [
        "### 🟠 3️⃣ Stacking: Building Tensor Towers! 🏗️\n",
        "Want to combine multiple tensors along a new axis? Stacking does it!\n",
        "\n",
        "🤔 Where in Vidyanix?\n",
        "* 📌 Combining multiple math problem representations in AI training!"
      ],
      "metadata": {
        "id": "kErK3JLQZOSZ"
      }
    },
    {
      "cell_type": "code",
      "source": [
        "a = tf.constant([1, 2, 3])\n",
        "b = tf.constant([4, 5, 6])\n",
        "stacked = tf.stack([a, b], axis= 1) # Stack along second axis\n",
        "\n",
        "print(f\"Stacked tensor: \\n {stacked}\")\n"
      ],
      "metadata": {
        "colab": {
          "base_uri": "https://localhost:8080/"
        },
        "id": "ZkcHUIfEZGSb",
        "outputId": "44f893b1-8e19-466b-9114-922282eee510"
      },
      "execution_count": 24,
      "outputs": [
        {
          "output_type": "stream",
          "name": "stdout",
          "text": [
            "Stacked tensor: \n",
            " [[1 4]\n",
            " [2 5]\n",
            " [3 6]]\n"
          ]
        }
      ]
    },
    {
      "cell_type": "markdown",
      "source": [
        "### 🟡 4️⃣ Slicing: Cutting Tensor Pieces! ✂️\n",
        "\n",
        "Want only part of a tensor? Use slicing!\n",
        "\n",
        "🤔 Where in Vidyanix?\n",
        "* 📌 Extracting specific **data points** from a dataset!"
      ],
      "metadata": {
        "id": "-uyRyEPFa0mA"
      }
    },
    {
      "cell_type": "code",
      "source": [
        "before_sliced = tf.constant([[1, 2, 3], [4, 5, 6], [7, 8, 9]])\n",
        "sliced_tensor = before_sliced[:, :2] # Get first 2 columns of every row\n",
        "\n",
        "print(f\"Sliced tensor: \\n{sliced_tensor}\")"
      ],
      "metadata": {
        "colab": {
          "base_uri": "https://localhost:8080/"
        },
        "id": "xTWSNmBcagwa",
        "outputId": "1d5cec76-a42b-43d7-f16a-7de29ce4bd3e"
      },
      "execution_count": 25,
      "outputs": [
        {
          "output_type": "stream",
          "name": "stdout",
          "text": [
            "Sliced tensor: \n",
            "[[1 2]\n",
            " [4 5]\n",
            " [7 8]]\n"
          ]
        }
      ]
    },
    {
      "cell_type": "markdown",
      "source": [
        "### 🎯 🔥 Homework Day 3 Challenge - (100% Based on Today’s Learning!) 🔥\n",
        "* 1️⃣ Reshape a (2,6) tensor into (3,4).\n",
        "* 2️⃣ Squeeze a (1, 5, 1) tensor into a 1D tensor.\n",
        "* 3️⃣ Stack three tensors [5,10], [15,20], [25,30] along a new axis.\n",
        "* 4️⃣ Slice the first two rows from a (4,4) tensor."
      ],
      "metadata": {
        "id": "CbhWr3ZQb4EY"
      }
    },
    {
      "cell_type": "code",
      "source": [
        "# 1.\n",
        "before_reshape = tf.constant(tf.range(1, 13), shape= (2, 6))\n",
        "after_reshaped = tf.reshape(before_reshape, shape= (3, 4))\n",
        "\n",
        "print(f\"Before reshape (2, 6): \\n{before_reshape}\")\n",
        "print(f\"After reshape (3, 4): \\n{after_reshaped}\")\n",
        "\n",
        "# 2.\n",
        "before_squeeze = tf.constant(tf.range(1, 6), shape = (1, 5, 1))\n",
        "after_squeeze = tf.squeeze(before_squeeze)\n",
        "\n",
        "print(f\"Before squeeze (1, 5, 1): \\n {before_squeeze}\")\n",
        "print(f\"After squeezed {after_squeeze.shape}: \\n{after_squeeze}\")\n",
        "\n",
        "# 3.\n",
        "a = tf.constant([5, 10])\n",
        "b = tf.constant([15, 20])\n",
        "c = tf.constant([25, 30])\n",
        "after_stack = tf.stack([a, b, c], axis= 1)\n",
        "\n",
        "\n",
        "print(f\"After stack {after_stack.shape}: \\n {after_stack}\")\n",
        "\n",
        "# 3.\n",
        "tensor_4x4 = tf.constant([\n",
        "       [1, 2, 3, 4],\n",
        "       [5, 6, 7, 8],\n",
        "       [9, 10, 11,12],\n",
        "       [13, 14, 15, 16]\n",
        "    ])\n",
        "\n",
        "sliced_2_rows = tensor_4x4[:2, :]\n",
        "\n",
        "print(f\"Sliced tensor first 2 rows: \\n{sliced_2_rows}\")\n"
      ],
      "metadata": {
        "colab": {
          "base_uri": "https://localhost:8080/"
        },
        "id": "CmsRZ0GgbiDS",
        "outputId": "5d5d2403-aa47-4ad7-af48-ea7407cbeb19"
      },
      "execution_count": 26,
      "outputs": [
        {
          "output_type": "stream",
          "name": "stdout",
          "text": [
            "Before reshape (2, 6): \n",
            "[[ 1  2  3  4  5  6]\n",
            " [ 7  8  9 10 11 12]]\n",
            "After reshape (3, 4): \n",
            "[[ 1  2  3  4]\n",
            " [ 5  6  7  8]\n",
            " [ 9 10 11 12]]\n",
            "Before squeeze (1, 5, 1): \n",
            " [[[1]\n",
            "  [2]\n",
            "  [3]\n",
            "  [4]\n",
            "  [5]]]\n",
            "After squeezed (5,): \n",
            "[1 2 3 4 5]\n",
            "After stack (2, 3): \n",
            " [[ 5 15 25]\n",
            " [10 20 30]]\n",
            "Sliced tensor first 2 rows: \n",
            "[[1 2 3 4]\n",
            " [5 6 7 8]]\n"
          ]
        }
      ]
    },
    {
      "cell_type": "markdown",
      "source": [
        "### **Extra Practice**\n",
        "\n",
        "#### 🏋️ 1️⃣ **Playing with squeeze() 🏋️‍♂️**\n",
        "* Let’s check how squeeze() removes unnecessary dimensions!\n",
        "\n",
        "💡 Key Takeaways:\n",
        "\n",
        "* `tf.squeeze(tensor)` removes all `1`s!\n",
        "* `tf.squeeze(tensor, axis=n)` removes only the given axis if it has `1`."
      ],
      "metadata": {
        "id": "EPGC_CB4uq4J"
      }
    },
    {
      "cell_type": "code",
      "source": [
        "# Creating a weird shaped tensor! 😵\n",
        "\n",
        "tensor_weird = tf.constant(tf.range(1, 13), shape= (1, 3, 1, 4, 1))\n",
        "print(f\"Original Tensor (1, 3, 1, 4, 1): \\n{tensor_weird}\")\n",
        "\n",
        "# 🔥 Remove All single dimensions!\n",
        "squeezed = tf.squeeze(tensor_weird)\n",
        "print(f\"Squeezed Tensor (Should be 3, 4): \\n {squeezed}\\n\")\n",
        "\n",
        "# 🎯 Want to remove a SPECIFIC axis? Try this!\n",
        "squeezed_axis_2 = tf.squeeze(tensor_weird, axis= 2) # Removes only the (1) at position 2\n",
        "print(f\"Squeezed Only axis = 2 shape -{squeezed_axis_2.shape}: \\n {squeezed_axis_2}\\n\")"
      ],
      "metadata": {
        "id": "GdnBLzYNct9k",
        "colab": {
          "base_uri": "https://localhost:8080/"
        },
        "outputId": "b5ca771e-2e0c-454e-c249-9f6360a1d6e3"
      },
      "execution_count": 27,
      "outputs": [
        {
          "output_type": "stream",
          "name": "stdout",
          "text": [
            "Original Tensor (1, 3, 1, 4, 1): \n",
            "[[[[[ 1]\n",
            "    [ 2]\n",
            "    [ 3]\n",
            "    [ 4]]]\n",
            "\n",
            "\n",
            "  [[[ 5]\n",
            "    [ 6]\n",
            "    [ 7]\n",
            "    [ 8]]]\n",
            "\n",
            "\n",
            "  [[[ 9]\n",
            "    [10]\n",
            "    [11]\n",
            "    [12]]]]]\n",
            "Squeezed Tensor (Should be 3, 4): \n",
            " [[ 1  2  3  4]\n",
            " [ 5  6  7  8]\n",
            " [ 9 10 11 12]]\n",
            "\n",
            "Squeezed Only axis = 2 shape -(1, 3, 4, 1): \n",
            " [[[[ 1]\n",
            "   [ 2]\n",
            "   [ 3]\n",
            "   [ 4]]\n",
            "\n",
            "  [[ 5]\n",
            "   [ 6]\n",
            "   [ 7]\n",
            "   [ 8]]\n",
            "\n",
            "  [[ 9]\n",
            "   [10]\n",
            "   [11]\n",
            "   [12]]]]\n",
            "\n"
          ]
        }
      ]
    },
    {
      "cell_type": "markdown",
      "source": [
        "#### **📦 2️⃣ Stacking Practice – Axis Playground! 📦**\n",
        "Let’s experiment with `stack()` and see the difference!\n",
        "\n",
        "💡 Key Takeaways:\n",
        "\n",
        "* `axis=0` → Stacks as rows\n",
        "* `axis=1` → Stacks as columns\n",
        "* `axis=2` → Creates depth, making it 3D\n",
        "\n",
        "Ah-ha! That sneaky error is **TensorFlow telling you** that `axis=2` is **out of range** for your tensors! 😲  \n",
        "\n",
        "### **Why did this happen?**  \n",
        "Your tensors `a, b, c` are **1D tensors** (shape: `(2,)` each).  \n",
        "\n",
        "👀 **Stacking Rule:**  \n",
        "When stacking **N 1D tensors**, you **can only stack along axis 0 or 1**, because the new shape will be `(N, length)` or `(length, N)`.  \n",
        "\n",
        "👉 `axis=2` is out of range since the tensors don't have a third axis!  \n",
        "\n",
        "### **How to Fix It?**\n",
        "Try:  \n",
        "```python\n",
        "stack_axis1 = tf.stack([a, b, c], axis=1)  # ✅ Works!\n",
        "print(f\"Stacked along axis=1: \\n{stack_axis1}\\n\")\n",
        "```\n",
        "Or, if you need **extra depth**, first **expand dimensions**:\n",
        "```python\n",
        "a_exp = tf.expand_dims(a, axis=1)\n",
        "b_exp = tf.expand_dims(b, axis=1)\n",
        "c_exp = tf.expand_dims(c, axis=1)\n",
        "\n",
        "stack_axis2 = tf.stack([a_exp, b_exp, c_exp], axis=2)  # ✅ Now it works!\n",
        "print(f\"Stacked along axis=2 (adds depth!): \\n{stack_axis2}\\n\")\n",
        "```\n",
        "  \n",
        "**Summary:**  \n",
        "- `axis=0` → Stacks vertically 📏  \n",
        "- `axis=1` → Stacks side by side 📚  \n",
        "- `axis=2` → Needs an extra dimension (otherwise, error!) 🚨  \n",
        "\n",
        "Hope that clears it up! 🚀🔥\n"
      ],
      "metadata": {
        "id": "PDjY7AWdzKyj"
      }
    },
    {
      "cell_type": "code",
      "source": [
        "# Three seperate tensors 📦📦📦\n",
        "a = tf.constant([1, 2, 3])\n",
        "b = tf.constant([4, 5, 6])\n",
        "c = tf.constant([7, 8, 9])\n",
        "\n",
        "# Stacking along axis = 0 (Rows)\n",
        "stack_axis0 = tf.stack([a, b, c], axis= 0)\n",
        "print(f\"Stacked along axis=0 (rows): \\n{stack_axis0}\\n\")\n",
        "\"\"\"\n",
        "Output:\n",
        "      [[1 2 3]\n",
        "       [4 5 6]\n",
        "       [7 8 9]]\n",
        "\"\"\"\n",
        "\n",
        "# Stacking along axis = 1 (Columns)\n",
        "stack_axis1 = tf.stack([a, b, c], axis=1)\n",
        "print(f\"Stacked along axis = 1 (columns): \\n{stack_axis1}\\n\")\n",
        "\"\"\"\n",
        "Output:\n",
        "      [[1 4 7]\n",
        "       [2 5 8]\n",
        "       [3 6 9]]\n",
        "\"\"\"\n",
        "a_exp = tf.expand_dims([1, 2, 3], axis = 1)\n",
        "b_exp = tf.expand_dims([4, 5, 6], axis = 1)\n",
        "c_exp = tf.expand_dims([7, 8, 9], axis = 1)\n",
        "# What if we try axis = 2? 🤔\n",
        "# Gives a error\n",
        "stack_axis2 = tf.stack([a_exp, b_exp, c_exp], axis = 2)\n",
        "print(f\"Stacked along axis = 2 (adds depth!): \\n{stack_axis2}\\n\")\n"
      ],
      "metadata": {
        "colab": {
          "base_uri": "https://localhost:8080/"
        },
        "id": "vnrfhNlyytzJ",
        "outputId": "d3039566-fb23-4ad6-d12d-9c9a88dbd074"
      },
      "execution_count": 28,
      "outputs": [
        {
          "output_type": "stream",
          "name": "stdout",
          "text": [
            "Stacked along axis=0 (rows): \n",
            "[[1 2 3]\n",
            " [4 5 6]\n",
            " [7 8 9]]\n",
            "\n",
            "Stacked along axis = 1 (columns): \n",
            "[[1 4 7]\n",
            " [2 5 8]\n",
            " [3 6 9]]\n",
            "\n",
            "Stacked along axis = 2 (adds depth!): \n",
            "[[[1 4 7]]\n",
            "\n",
            " [[2 5 8]]\n",
            "\n",
            " [[3 6 9]]]\n",
            "\n"
          ]
        }
      ]
    },
    {
      "cell_type": "markdown",
      "source": [
        "#### **🔪 3️⃣ Slicing Like a Ninja! 🔪**\n",
        "Let’s slice a 4x4 tensor in different ways!\n",
        "\n",
        "💡 Key Takeaways:\n",
        "\n",
        "* `[:2, :]` → First 2 rows\n",
        "* `[:, :2]` → First 2 columns\n",
        "* `[1:3, 1:3]` → Middle 2x2 block\n",
        "* `[-1, :]` → Last row\n",
        "* `[:, -1]` → Last column"
      ],
      "metadata": {
        "id": "mas-xI-_37Fs"
      }
    },
    {
      "cell_type": "code",
      "source": [
        "# Original 4x4 tensor\n",
        "tensor_4x4 = tf.constant([\n",
        "    [10, 20, 30, 40],\n",
        "    [50, 60, 70, 80],\n",
        "    [90, 100, 110, 120],\n",
        "    [130, 140, 150, 160]\n",
        "])\n",
        "\n",
        "print(f\"Original Tensor (4x4): \\n{tensor_4x4}\\n\")\n",
        "\n",
        "# 🔥 Slice first 2 rows\n",
        "slice_rows = tensor_4x4[:2, :]\n",
        "print(f\"first 2 rows: \\n{slice_rows}\\n\")\n",
        "\n",
        "# 🔥 Slice first 2 columns\n",
        "slice_columns = tensor_4x4[:, :2]\n",
        "print(f\"first 2 columns: \\n{slice_columns}\\n\")\n",
        "\n",
        "# 🔥 Slice center 2x2 block\n",
        "slice_center = tensor_4x4[1:3, 1:3]\n",
        "print(f\"Center 2x2 block: \\n{slice_center}\\n\")\n",
        "\n",
        "# 🔥 Slice last 2 rows\n",
        "slice_last_2_row = tensor_4x4[ -2:, :]\n",
        "print(f\"Last 2 rows: \\n{slice_last_2_row}\\n\")\n",
        "\n",
        "# 🔥 Slice last row only\n",
        "slice_last_row = tensor_4x4[-1, :]\n",
        "print(f\"Last row: \\n{slice_last_row}\\n\")\n",
        "\n",
        "# 🔥 Slice last column only\n",
        "slice_last_column = tensor_4x4[:, -1]\n",
        "print(f\"Last column: \\n{slice_last_column}\")"
      ],
      "metadata": {
        "colab": {
          "base_uri": "https://localhost:8080/"
        },
        "id": "wBTkzY8S0Vc5",
        "outputId": "aa53bd9b-1fc4-4b81-8ba6-176a070850fe"
      },
      "execution_count": 29,
      "outputs": [
        {
          "output_type": "stream",
          "name": "stdout",
          "text": [
            "Original Tensor (4x4): \n",
            "[[ 10  20  30  40]\n",
            " [ 50  60  70  80]\n",
            " [ 90 100 110 120]\n",
            " [130 140 150 160]]\n",
            "\n",
            "first 2 rows: \n",
            "[[10 20 30 40]\n",
            " [50 60 70 80]]\n",
            "\n",
            "first 2 columns: \n",
            "[[ 10  20]\n",
            " [ 50  60]\n",
            " [ 90 100]\n",
            " [130 140]]\n",
            "\n",
            "Center 2x2 block: \n",
            "[[ 60  70]\n",
            " [100 110]]\n",
            "\n",
            "Last 2 rows: \n",
            "[[ 90 100 110 120]\n",
            " [130 140 150 160]]\n",
            "\n",
            "Last row: \n",
            "[130 140 150 160]\n",
            "\n",
            "Last column: \n",
            "[ 40  80 120 160]\n"
          ]
        }
      ]
    },
    {
      "cell_type": "markdown",
      "source": [
        "# Day 4: Mathematical Operations 🚀\n",
        "\n",
        "**Date: 14-02-2025**"
      ],
      "metadata": {
        "id": "9xO5VVzXhFkE"
      }
    },
    {
      "cell_type": "markdown",
      "source": [
        "### 1️⃣ Element-wise Operations (Tensors Doing Their Own Math)\n",
        "Think of this like a tensors' personal calculator where each element gets its own turn!\n",
        "\n",
        "🔹 Addition (+), Subtraction (-), Multiplication (*), Division (/)\n",
        "\n"
      ],
      "metadata": {
        "id": "RgF4SiIvhvky"
      }
    },
    {
      "cell_type": "markdown",
      "source": [
        "#### Example 1: Adding two tensors\n",
        "\n",
        "🎯 **What happens?**\n",
        "\n",
        "Each element of `a` gets added to the corresponding element of b.\n",
        "* 💡 Result: `[2+1, 4+2, 6+3] → [3, 6, 9]`"
      ],
      "metadata": {
        "id": "FTIeZYmJkx7j"
      }
    },
    {
      "cell_type": "code",
      "source": [
        "import tensorflow as tf\n",
        "\n",
        "# Create 2 tesors\n",
        "a = tf.constant([2, 4, 6])\n",
        "b = tf.constant([1, 2, 3])\n",
        "\n",
        "# Element-wise addition\n",
        "sum_result = a + b\n",
        "print(f\"Element-wise addition: \\n {sum_result}\\n\")"
      ],
      "metadata": {
        "colab": {
          "base_uri": "https://localhost:8080/"
        },
        "id": "3jLGzgPFiJkh",
        "outputId": "a6b599a8-5342-442b-ebca-10f515b8601f"
      },
      "execution_count": 30,
      "outputs": [
        {
          "output_type": "stream",
          "name": "stdout",
          "text": [
            "Element-wise addition: \n",
            " [3 6 9]\n",
            "\n"
          ]
        }
      ]
    },
    {
      "cell_type": "markdown",
      "source": [
        "#### Example 2: Multiplying tensors element-wise\n",
        "\n",
        "🎯 Result: `[5×2, 10×3, 15×4] → [10, 30, 60]`"
      ],
      "metadata": {
        "id": "bR1mm0Qwj-w8"
      }
    },
    {
      "cell_type": "code",
      "source": [
        "x = tf.constant([5, 10, 15])\n",
        "y = tf.constant([2, 3, 4])\n",
        "\n",
        "product = x * y\n",
        "print(f\"Element-wise multiplication: \\n{product}\\n\")"
      ],
      "metadata": {
        "colab": {
          "base_uri": "https://localhost:8080/"
        },
        "id": "mNQi57W3jhnm",
        "outputId": "b13b81f0-cb08-4647-a271-baf1fc0c65e0"
      },
      "execution_count": 31,
      "outputs": [
        {
          "output_type": "stream",
          "name": "stdout",
          "text": [
            "Element-wise multiplication: \n",
            "[10 30 60]\n",
            "\n"
          ]
        }
      ]
    },
    {
      "cell_type": "markdown",
      "source": [
        "### 2️⃣ Matrix Multiplication (Tensors in Sync 🎭)\n",
        "\n",
        "Element-wise multiplication was like solo dancing, now tensors hold hands and do an actual dance together! 🕺💃\n",
        "\n",
        "💡 Use `tf.matmul()` for matrix multiplication\n",
        "\n",
        "Example 3: Multiplying Matrices\n",
        "\n",
        "* **🎯 Matrix multiplication is not element-wise! It follows proper row × column multiplication rules.**"
      ],
      "metadata": {
        "id": "3OVPPBfbk2qn"
      }
    },
    {
      "cell_type": "code",
      "source": [
        "# Define 2 matrices\n",
        "matrix1 = tf.constant([[1, 2], [3, 4]])\n",
        "matrix2 = tf.constant([[5, 6], [7, 8]])\n",
        "\n",
        "# Matrix multiplication\n",
        "result = tf.matmul(matrix1, matrix2)\n",
        "print(f\"Matrix multiplication: \\n{result}\\n\")"
      ],
      "metadata": {
        "colab": {
          "base_uri": "https://localhost:8080/"
        },
        "id": "u1gXWxb1kY0s",
        "outputId": "dcbfb839-3d8c-4bb3-aa07-5149c1ffb046"
      },
      "execution_count": 32,
      "outputs": [
        {
          "output_type": "stream",
          "name": "stdout",
          "text": [
            "Matrix multiplication: \n",
            "[[19 22]\n",
            " [43 50]]\n",
            "\n"
          ]
        }
      ]
    },
    {
      "cell_type": "markdown",
      "source": [
        "### 3️⃣ Dot Product (Tensors' Love Story ❤️)\n",
        "\n",
        "This is when two tensors hug each other tightly and create a single value. 🫂\n",
        "\n",
        "💡 Use `tf.tensordot()` for dot product\n",
        "\n",
        "Example 4: Dot Product of Vectors\n",
        "\n",
        "* 🎯 Result: `1×4 + 2×5 + 3×6 = 32`"
      ],
      "metadata": {
        "id": "7aeMXI0xm5gm"
      }
    },
    {
      "cell_type": "code",
      "source": [
        "# 2 1D tensors\n",
        "vec1 = tf.constant([1, 2, 3])\n",
        "vec2 = tf.constant([4, 5, 6])\n",
        "\n",
        "dot_result = tf.tensordot(vec1, vec2, axes=1)\n",
        "print(f\"Dot product: \\n{dot_result}\\n\")"
      ],
      "metadata": {
        "colab": {
          "base_uri": "https://localhost:8080/"
        },
        "id": "p_2mAEuKmBsm",
        "outputId": "24621a8a-e452-45f9-ac89-35032ea54cff"
      },
      "execution_count": 33,
      "outputs": [
        {
          "output_type": "stream",
          "name": "stdout",
          "text": [
            "Dot product: \n",
            "32\n",
            "\n"
          ]
        }
      ]
    },
    {
      "cell_type": "markdown",
      "source": [
        "### 4️⃣ More Fun with Tensor Math! (Extra Experiments 🤓)\n",
        "\n"
      ],
      "metadata": {
        "id": "XdUql9_ppFba"
      }
    },
    {
      "cell_type": "markdown",
      "source": [
        "#### ✅ Power Operation (Raise Tensors to a Power)\n",
        "* 🎯 Result: `[2³, 3³, 4³] → [8, 27, 64]`"
      ],
      "metadata": {
        "id": "Vn8pbpOKqKAl"
      }
    },
    {
      "cell_type": "code",
      "source": [
        "tensor = tf.constant([2, 3, 4])\n",
        "\n",
        "power_result = tf.pow(tensor, 3) # Each element cubed!\n",
        "print(f\"Tensor raised to power 3:\\n{power_result}\\n\")"
      ],
      "metadata": {
        "colab": {
          "base_uri": "https://localhost:8080/"
        },
        "id": "VtfxS6m5nlq-",
        "outputId": "b8a8eb01-7d57-4ce2-945f-2ee28b9f62a5"
      },
      "execution_count": 34,
      "outputs": [
        {
          "output_type": "stream",
          "name": "stdout",
          "text": [
            "Tensor raised to power 3:\n",
            "[ 8 27 64]\n",
            "\n"
          ]
        }
      ]
    },
    {
      "cell_type": "markdown",
      "source": [
        "#### ✅ Modulus (Finding Remainders)\n",
        "\n",
        "* 🎯 Result: `[10%3, 20%7, 30%9] → [1, 6, 3]`"
      ],
      "metadata": {
        "id": "AmPofnw7p_5d"
      }
    },
    {
      "cell_type": "code",
      "source": [
        "a = tf.constant([10, 20, 30])\n",
        "b = tf.constant([3, 7, 9])\n",
        "\n",
        "mod_result = tf.math.mod(a, b)\n",
        "print(f\"Mod result: \\n{mod_result}\\n\")"
      ],
      "metadata": {
        "colab": {
          "base_uri": "https://localhost:8080/"
        },
        "id": "JwKuqrClprwd",
        "outputId": "703ec907-d7c6-4311-cbc4-8361878ea5ea"
      },
      "execution_count": 35,
      "outputs": [
        {
          "output_type": "stream",
          "name": "stdout",
          "text": [
            "Mod result: \n",
            "[1 6 3]\n",
            "\n"
          ]
        }
      ]
    },
    {
      "cell_type": "markdown",
      "source": [
        "### 🔥 Homework – Day 4! 🚀\n",
        "Try these in Google Colab!\n",
        "\n",
        " * 1️⃣ Create two random (3x3) tensors and add them element-wise.\n",
        " * 2️⃣ Perform matrix multiplication on two (2x3) and (3x2) tensors.\n",
        " * 3️⃣ Find the dot product of two 1D tensors with 4 elements each.\n",
        " * 4️⃣ Compute `(tensor^4) + 5` for tensor = `[1, 2, 3, 4]`.\n",
        " * 5️⃣ Find the remainder when `[15, 25, 35, 45]` is divided by `[4, 6, 7, 9]`."
      ],
      "metadata": {
        "id": "8UwMSn7Nqkym"
      }
    },
    {
      "cell_type": "code",
      "source": [
        "# 1.\n",
        "random_3x3_1 = tf.random.uniform(shape = (3, 3), minval= 1, maxval=20, dtype= tf.int32)\n",
        "random_3x3_2 = tf.random.uniform(shape = (3, 3), minval = 1, maxval = 20, dtype= tf.int32)\n",
        "\n",
        "add = random_3x3_1 + random_3x3_2\n",
        "print(f\"Original tensors \\ntensor 1: \\n{random_3x3_1}\\n\")\n",
        "print(f\"tensor 2: \\n{random_3x3_2}\\n\")\n",
        "print(f\"Addition: \\n{add}\\n\")\n",
        "\n",
        "# 2.\n",
        "tensor_1 = tf.constant([[1, 2, 3],\n",
        "                        [4, 5, 6]])\n",
        "tensor_2 = tf.constant([[1, 2],\n",
        "                        [3, 4],\n",
        "                        [5, 6]])\n",
        "\n",
        "multiply = tf.matmul(tensor_1, tensor_2)\n",
        "print(f\"Multiplication result:\\n{multiply}\")\n",
        "\n",
        "# 3.\n",
        "tensor_1_1d = tf.constant([1, 2, 3, 4])\n",
        "tensor_2_1d = tf.constant([7, 8, 9, 10])\n",
        "\n",
        "dot_product = tf.tensordot(tensor_1_1d, tensor_2_1d, axes= 1)\n",
        "print(f\"Dot product: \\n{dot_product}\")\n",
        "\n",
        "# 4.\n",
        "tensor_pow = tf.constant([1, 2, 3, 4])\n",
        "\n",
        "pow_result = tf.pow(tensor_pow, 5) + 5\n",
        "\n",
        "print(f\"Power result: \\n{pow_result}\\n\")\n",
        "\n",
        "# 5.\n",
        "x = tf.constant([15, 25, 35, 45])\n",
        "y = tf.constant([4, 6, 7, 9])\n",
        "\n",
        "mod_result = tf.math.mod(x, y)\n",
        "\n",
        "print(f\"Mod result:\\n{mod_result}\\n\")"
      ],
      "metadata": {
        "id": "BaVHfGuXqiB1",
        "colab": {
          "base_uri": "https://localhost:8080/"
        },
        "outputId": "66674b17-ce85-4ef9-c46b-19ac050e8835"
      },
      "execution_count": 36,
      "outputs": [
        {
          "output_type": "stream",
          "name": "stdout",
          "text": [
            "Original tensors \n",
            "tensor 1: \n",
            "[[14  8  6]\n",
            " [ 3  1 18]\n",
            " [14 14 16]]\n",
            "\n",
            "tensor 2: \n",
            "[[ 8 14 16]\n",
            " [ 1 11 10]\n",
            " [ 5  2 15]]\n",
            "\n",
            "Addition: \n",
            "[[22 22 22]\n",
            " [ 4 12 28]\n",
            " [19 16 31]]\n",
            "\n",
            "Multiplication result:\n",
            "[[22 28]\n",
            " [49 64]]\n",
            "Dot product: \n",
            "90\n",
            "Power result: \n",
            "[   6   37  248 1029]\n",
            "\n",
            "Mod result:\n",
            "[3 1 0 0]\n",
            "\n"
          ]
        }
      ]
    },
    {
      "cell_type": "markdown",
      "source": [
        "# Day 5: Advanced Tensor Operations 🚀\n",
        "\n",
        "**Date: 16-02-2025**\n",
        "\n",
        "## **🚦 What’s on the menu today?**\n",
        "\n",
        "* 1️⃣ **Element-wise Operations (More Fun!)** – Power, Modulus, Min, Max, Abs\n",
        "\n",
        "* 2️⃣ **Aggregations & Statistics** – Mean, Sum, Min, Max, Variance, Standard Deviation\n",
        "\n",
        "* 3️⃣ **Tensor Slicing (Advanced!)** – Extracting rows, columns, and fancy tricks!\n",
        "\n",
        "* 4️⃣ **Reshaping (More Practice!)** – Flatten, Expand, Squeeze\n",
        "\n",
        "* 5️⃣ **More Stacking & Concatenation!** – Getting tensors together in style!"
      ],
      "metadata": {
        "id": "BMN-EpGU6AyH"
      }
    },
    {
      "cell_type": "markdown",
      "source": [
        "### 🚀 1️⃣ Element-wise Operations – Let’s Go Wild!\n",
        "\n",
        "\n",
        "These operations apply individually to each element of the tensor."
      ],
      "metadata": {
        "id": "8aW22Mcv6hT6"
      }
    },
    {
      "cell_type": "markdown",
      "source": [
        "#### 🔹 Example 1: Power of Elements\n",
        "\n",
        "🟢 Vidyanix Use? → Calculating cube of numbers in exponent-related math tricks!"
      ],
      "metadata": {
        "id": "5nEC7tkW6tv0"
      }
    },
    {
      "cell_type": "code",
      "source": [
        "tensor = tf.constant([2, 3, 4, 5])\n",
        "\n",
        "# Raise each element to pow by 3\n",
        "\n",
        "power_tensor = tf.pow(tensor, 3)\n",
        "print(f\"Power result: \\n{power_tensor}\")"
      ],
      "metadata": {
        "colab": {
          "base_uri": "https://localhost:8080/"
        },
        "id": "b7alVIIW65Vw",
        "outputId": "1fdb659f-ad2d-401e-b0c3-dea1069bda0c"
      },
      "execution_count": 37,
      "outputs": [
        {
          "output_type": "stream",
          "name": "stdout",
          "text": [
            "Power result: \n",
            "[  8  27  64 125]\n"
          ]
        }
      ]
    },
    {
      "cell_type": "markdown",
      "source": [
        "#### 🔹 Example 2: Modulus Operation (Remainder)\n",
        "\n",
        "🟢 Vidyanix Use? → Used for checking divisibility tricks! (e.g., \"Is this number divisible by X?\")"
      ],
      "metadata": {
        "id": "rxLpAO6G7cI8"
      }
    },
    {
      "cell_type": "code",
      "source": [
        "nums = tf.constant([10, 15, 25, 40])\n",
        "divisors = tf.constant([3, 4, 6, 8])\n",
        "\n",
        "remainder = tf.math.mod(nums, divisors)\n",
        "print(f\"Modulus result: \\n{remainder}\")"
      ],
      "metadata": {
        "colab": {
          "base_uri": "https://localhost:8080/"
        },
        "id": "_St06lBa7hJY",
        "outputId": "19506894-116d-4db2-8ce3-99e01d35dcad"
      },
      "execution_count": 38,
      "outputs": [
        {
          "output_type": "stream",
          "name": "stdout",
          "text": [
            "Modulus result: \n",
            "[1 3 1 0]\n"
          ]
        }
      ]
    },
    {
      "cell_type": "markdown",
      "source": [
        "#### 🔹 Example 3: Min, Max, Abs (Absolute Values)\n",
        "\n",
        "🟢 Vidyanix Use? → Needed when checking lowest/highest scores, absolute differences in error correction!"
      ],
      "metadata": {
        "id": "FL0RgjvE8IXZ"
      }
    },
    {
      "cell_type": "code",
      "source": [
        "tensor = tf.constant([-10, -5, 0, 5, 10])\n",
        "\n",
        "print(f\"Min: {tf.reduce_min(tensor)}\")\n",
        "print(f\"Max: {tf.reduce_max(tensor)}\")\n",
        "print(f\"Absolute Value: \\n{tf.abs(tensor)}\")"
      ],
      "metadata": {
        "colab": {
          "base_uri": "https://localhost:8080/"
        },
        "id": "aFUpzGKh8Pkj",
        "outputId": "92c9e5e0-233d-4030-d126-1a1cb0dc4fd4"
      },
      "execution_count": 39,
      "outputs": [
        {
          "output_type": "stream",
          "name": "stdout",
          "text": [
            "Min: -10\n",
            "Max: 10\n",
            "Absolute Value: \n",
            "[10  5  0  5 10]\n"
          ]
        }
      ]
    },
    {
      "cell_type": "markdown",
      "source": [
        "### 🚀 2️⃣ Aggregations & Statistics – Making Sense of Numbers!\n",
        "\n",
        "\n",
        "We often need to summarize data with operations like mean, sum, variance, and standard deviation."
      ],
      "metadata": {
        "id": "KG6uCEyu84Ev"
      }
    },
    {
      "cell_type": "markdown",
      "source": [
        "#### 🔹 Example 4: Sum & Mean of a Tensor\n",
        "\n",
        "🟢 Vidyanix Use? → Used to calculate the average accuracy of students over multiple questions!"
      ],
      "metadata": {
        "id": "g5I90dQI9BYO"
      }
    },
    {
      "cell_type": "code",
      "source": [
        "tensor = tf.constant([4, 8, 15, 16, 23, 42])\n",
        "sum_tensor = tf.reduce_sum(tensor)\n",
        "mean_tensor = tf.reduce_mean(tensor)\n",
        "print(f\"Sum: {sum_tensor}, Mean: {mean_tensor}\")"
      ],
      "metadata": {
        "colab": {
          "base_uri": "https://localhost:8080/"
        },
        "id": "4XtCmUf19nkE",
        "outputId": "31462778-69c5-4cd0-fdd0-9fc29dfebfba"
      },
      "execution_count": 40,
      "outputs": [
        {
          "output_type": "stream",
          "name": "stdout",
          "text": [
            "Sum: 108, Mean: 18\n"
          ]
        }
      ]
    },
    {
      "cell_type": "markdown",
      "source": [
        "#### 🔹 Example 5: Variance & Standard Deviation\n",
        "\n",
        "🟢 Vidyanix Use? → Needed when analyzing how much students' answers vary in difficulty!"
      ],
      "metadata": {
        "id": "nYqr-dlp-VeW"
      }
    },
    {
      "cell_type": "code",
      "source": [
        "tensor = tf.constant([10, 20, 30, 40, 50], dtype= tf.float32)\n",
        "\n",
        "variance = tf.math.reduce_variance(tensor)\n",
        "std_dev = tf.math.reduce_std(tensor)\n",
        "print(f\"Variance: {variance}, Standard Deviation: {std_dev:.3f}\")"
      ],
      "metadata": {
        "colab": {
          "base_uri": "https://localhost:8080/"
        },
        "id": "WBeaDJ2e-Za8",
        "outputId": "ebcc7e70-8902-46c3-a21e-91ada49ce4fd"
      },
      "execution_count": 41,
      "outputs": [
        {
          "output_type": "stream",
          "name": "stdout",
          "text": [
            "Variance: 200.0, Standard Deviation: 14.142\n"
          ]
        }
      ]
    },
    {
      "cell_type": "markdown",
      "source": [
        "### 🚀 3️⃣ Advanced Tensor Slicing\n",
        "\n",
        "We’ve already done basic slicing, but let’s level up!"
      ],
      "metadata": {
        "id": "ft3QLf8d_DX6"
      }
    },
    {
      "cell_type": "markdown",
      "source": [
        "#### 🔹 Example 6: Extracting Every Second Element\n",
        "\n",
        "🟢 Vidyanix Use? → Used to extract alternate numbers in patterns!"
      ],
      "metadata": {
        "id": "MT84ufpy_GAU"
      }
    },
    {
      "cell_type": "code",
      "source": [
        "tensor = tf.constant([10, 20, 30, 40, 50, 60])\n",
        "sliced = tensor[::2] # Get every 2nd element\n",
        "print(f\"Sliced result: \\n{sliced}\")"
      ],
      "metadata": {
        "colab": {
          "base_uri": "https://localhost:8080/"
        },
        "id": "4No4_oKc_LfN",
        "outputId": "fa99f9f8-353c-4448-e2ff-ced401e3f6e3"
      },
      "execution_count": 42,
      "outputs": [
        {
          "output_type": "stream",
          "name": "stdout",
          "text": [
            "Sliced result: \n",
            "[10 30 50]\n"
          ]
        }
      ]
    },
    {
      "cell_type": "markdown",
      "source": [
        "#### 🔹 Example 7: Extracting a Sub-matrix\n",
        "\n",
        "🟢 Vidyanix Use? → Useful for breaking down multi-digit problems into parts!"
      ],
      "metadata": {
        "id": "gIJRoisR_htW"
      }
    },
    {
      "cell_type": "code",
      "source": [
        "matrix = tf.constant([[1, 2, 3], [4, 5, 6], [7, 8, 9]])\n",
        "sub_matrix = matrix[:2, 1:] # Extracts first 2 rows, last 2 columns\n",
        "print(f\"Sub-matrix: \\n{sub_matrix}\")"
      ],
      "metadata": {
        "colab": {
          "base_uri": "https://localhost:8080/"
        },
        "id": "3A-fM8e-_mvz",
        "outputId": "de280710-ee07-4835-8028-58cd45d76127"
      },
      "execution_count": 43,
      "outputs": [
        {
          "output_type": "stream",
          "name": "stdout",
          "text": [
            "Sub-matrix: \n",
            "[[2 3]\n",
            " [5 6]]\n"
          ]
        }
      ]
    },
    {
      "cell_type": "markdown",
      "source": [
        "### 🚀 4️⃣ Reshaping (More Practice!)\n",
        "\n",
        "\n",
        "Let's convert tensors into new shapes!"
      ],
      "metadata": {
        "id": "ZZ6MvRTsAT8C"
      }
    },
    {
      "cell_type": "markdown",
      "source": [
        "#### 🔹 Example 8: Flattening a Matrix into a 1D Tensor\n",
        "\n",
        "🟢 Vidyanix Use? → Used when storing multiple math solutions in a single array!"
      ],
      "metadata": {
        "id": "4rRKGTC5AWnw"
      }
    },
    {
      "cell_type": "code",
      "source": [
        "matrix = tf.constant([[1, 2, 3], [4, 5, 6], [7, 8, 9]])\n",
        "flattened = tf.reshape(matrix, [-1])\n",
        "print(f\"Flattened tensor: \\n{flattened}\")"
      ],
      "metadata": {
        "colab": {
          "base_uri": "https://localhost:8080/"
        },
        "id": "XWL4L69LAcfl",
        "outputId": "d8965777-28eb-4414-8dee-cdb8037aa820"
      },
      "execution_count": 44,
      "outputs": [
        {
          "output_type": "stream",
          "name": "stdout",
          "text": [
            "Flattened tensor: \n",
            "[1 2 3 4 5 6 7 8 9]\n"
          ]
        }
      ]
    },
    {
      "cell_type": "markdown",
      "source": [
        "#### 🔹 Example 9: Expanding Dimensions (Adding a New Axis)\n",
        "\n",
        "🟢 Vidyanix Use? → Needed when adjusting math problems for different difficulty levels!"
      ],
      "metadata": {
        "id": "mp2_xWu9AxoJ"
      }
    },
    {
      "cell_type": "code",
      "source": [
        "tensor = tf.constant([1, 2, 3])\n",
        "expanded = tf.expand_dims(tensor, axis= 0)\n",
        "print(f\"Expanded tensor: \\n{expanded}\")"
      ],
      "metadata": {
        "colab": {
          "base_uri": "https://localhost:8080/"
        },
        "id": "90WJ2TzlBzbm",
        "outputId": "21c9608a-df61-4aa2-f33d-25fe994491f2"
      },
      "execution_count": 45,
      "outputs": [
        {
          "output_type": "stream",
          "name": "stdout",
          "text": [
            "Expanded tensor: \n",
            "[[1 2 3]]\n"
          ]
        }
      ]
    },
    {
      "cell_type": "markdown",
      "source": [
        "### 🚀 5️⃣ More Stacking & Concatenation!\n",
        "\n",
        "\n",
        "We learned stacking, but let’s get even better!"
      ],
      "metadata": {
        "id": "MnckkhkqByUg"
      }
    },
    {
      "cell_type": "markdown",
      "source": [
        "#### 🔹 Example 10: Stacking Multiple Tensors (Depth-wise!)\n",
        "\n",
        "🟢 Vidyanix Use? → Used when storing multiple solutions per math problem!"
      ],
      "metadata": {
        "id": "5bSJp8pQCSIV"
      }
    },
    {
      "cell_type": "code",
      "source": [
        "a = tf.constant([1, 2])\n",
        "b = tf.constant([3, 4])\n",
        "c = tf.constant([5, 6])\n",
        "\n",
        "stacked = tf.stack([a, b, c], axis= 1)\n",
        "print(f\"Stacked tensor (axis= 1): \\n{stacked}\")"
      ],
      "metadata": {
        "id": "VzJqL2WVCZDL",
        "colab": {
          "base_uri": "https://localhost:8080/"
        },
        "outputId": "0fd34cac-9f4a-4384-f481-2ae5d4bb1365"
      },
      "execution_count": 46,
      "outputs": [
        {
          "output_type": "stream",
          "name": "stdout",
          "text": [
            "Stacked tensor (axis= 1): \n",
            "[[1 3 5]\n",
            " [2 4 6]]\n"
          ]
        }
      ]
    },
    {
      "cell_type": "markdown",
      "source": [
        "#### 🔹 Example 11: Concatenating Two Tensors\n",
        "\n",
        "🟢 Vidyanix Use? → Needed when combining hints and tricks dynamically!"
      ],
      "metadata": {
        "id": "ljlVeybeDNUw"
      }
    },
    {
      "cell_type": "code",
      "source": [
        "tensor1 = tf.constant([[1, 2], [3, 4]])\n",
        "tensor2 = tf.constant([[5, 6], [7, 8]])\n",
        "concatenated = tf.concat([tensor1, tensor2], axis= 0)\n",
        "print(f\"Concatenated tensor: \\n{concatenated}\")"
      ],
      "metadata": {
        "colab": {
          "base_uri": "https://localhost:8080/"
        },
        "id": "AK2pbhxfDRsp",
        "outputId": "6d5d1b0c-dba3-4b34-f190-f7444d480164"
      },
      "execution_count": 47,
      "outputs": [
        {
          "output_type": "stream",
          "name": "stdout",
          "text": [
            "Concatenated tensor: \n",
            "[[1 2]\n",
            " [3 4]\n",
            " [5 6]\n",
            " [7 8]]\n"
          ]
        }
      ]
    },
    {
      "cell_type": "markdown",
      "source": [
        "Great questions, Alex! Let's break them down. 😊🔍  \n",
        "\n",
        "---\n",
        "\n",
        "### **1️⃣ Is Concatenation the Same as Stacking?**  \n",
        "\n",
        "❌ **Nope! They’re different!**  \n",
        "\n",
        "### **📌 Stacking (tf.stack)**\n",
        "- Stacking **creates a new dimension** (adds depth).\n",
        "- Think of stacking like adding layers on top of each other.\n",
        "- **Example:**  \n",
        "\n",
        "```python\n",
        "a = tf.constant([1, 2, 3])\n",
        "b = tf.constant([4, 5, 6])\n",
        "\n",
        "stacked = tf.stack([a, b], axis=0)  # Creates a 2D tensor\n",
        "print(stacked)\n",
        "```\n",
        "\n",
        "🔹 **Shape of `stacked`**: `(2, 3)` → 2 rows, 3 columns.  \n",
        "🔹 Adds a **new** dimension → Before: `(3,)`, After: `(2, 3)`.  \n",
        "\n",
        "---\n",
        "\n",
        "### **📌 Concatenation (tf.concat)**\n",
        "- Concatenation **joins tensors along an existing axis**.\n",
        "- Think of it like **joining lists together**, not adding layers.\n",
        "- **Example:**  \n",
        "\n",
        "```python\n",
        "concat = tf.concat([a, b], axis=0)  # Joins them into a bigger tensor\n",
        "print(concat)\n",
        "```\n",
        "\n",
        "🔹 **Shape of `concat`**: `(6,)` → Just a long list, no extra dimension.  \n",
        "\n",
        "---\n",
        "\n",
        "### **🔍 Key Difference:**\n",
        "| Feature          | `tf.stack()` 🏗️ | `tf.concat()` 🔗 |\n",
        "|----------------|----------------|----------------|\n",
        "| Adds New Dimension? | ✅ Yes | ❌ No |\n",
        "| Used for? | Layering Tensors | Merging Tensors |\n",
        "| Example Shape Change | `(3,) → (2, 3)` | `(3,) → (6,)` |\n",
        "| Axis Effect | Creates a new one | Works on existing ones |\n",
        "\n",
        "---\n",
        "\n",
        "### **2️⃣ What Does `tf.reshape(matrix, [-1])` Mean?**  \n",
        "\n",
        "This is a TensorFlow **shortcut** to **flatten** a tensor.  \n",
        "\n",
        "🔹 **`-1` tells TensorFlow:**  \n",
        "*\"You decide the best size for this dimension!\"* 🤯  \n",
        "\n",
        "- It **flattens** the tensor into a **1D array**.  \n",
        "- The other dimensions (if any) remain unchanged.  \n",
        "\n",
        "✅ **Example:**  \n",
        "\n",
        "```python\n",
        "matrix = tf.constant([[1, 2, 3], [4, 5, 6]])  # Shape: (2,3)\n",
        "reshaped = tf.reshape(matrix, [-1])  # Flatten to 1D\n",
        "print(reshaped)  \n",
        "```\n",
        "\n",
        "🔹 **Output:**  \n",
        "```\n",
        "[1 2 3 4 5 6]\n",
        "```\n",
        "🔹 **New Shape:** `(6,)`  \n",
        "\n",
        "---\n",
        "\n",
        "### **🔍 Why Use `[-1]` Instead of `(x, y)`?**  \n",
        "- You don’t need to **calculate the exact shape**!  \n",
        "- TensorFlow **auto-detects** how many elements are left.  \n",
        "- Useful for **batch processing & deep learning models**!  \n",
        "\n",
        "---\n",
        "\n",
        "### **Final Answer:**\n",
        "1️⃣ **Stacking ≠ Concatenation** → Stacking adds dimensions, Concatenation merges along existing ones.  \n",
        "2️⃣ **`-1` in reshape means \"flatten\"** → TensorFlow automatically calculates the required shape!  \n",
        "\n",
        "🚀 **Cool TensorFlow Magic, Right?** 😃"
      ],
      "metadata": {
        "id": "eLQ-RC96D1cP"
      }
    },
    {
      "cell_type": "markdown",
      "source": [
        "### 📝 Homework Day 5 – Try These!\n",
        "\n",
        "\n",
        "* 1️⃣ Find the square root of tensor = `[4, 16, 25, 36]`\n",
        "* 2️⃣ Compute the sum of all even numbers in tensor = `[3, 8, 15, 22, 35, 40]`\n",
        "* 3️⃣ Slice and extract the last two rows from a (4x3) matrix\n",
        "* 4️⃣ Flatten a (2x3x2) tensor into a 1D tensor\n",
        "* 5️⃣ Stack three (2x2) matrices along axis=0 and axis=1"
      ],
      "metadata": {
        "id": "op4RQoSX5B5_"
      }
    },
    {
      "cell_type": "code",
      "source": [
        "# 1.\n",
        "# `tf.sqrt()` excepts float value\n",
        "tensor1 = tf.constant([4, 16, 25, 36], dtype= tf.float32)\n",
        "sqrt_tensor = tf.sqrt(tensor1)\n",
        "print(f\"Square root: \\n{sqrt_tensor}\\n\")\n",
        "\n",
        "# 2.\n",
        "tensor2 = tf.constant([3, 8, 15, 22, 35, 40])\n",
        "filtered_even = tensor2[tensor2 % 2 == 0]\n",
        "sum_of_even = tf.reduce_sum(filtered_even)\n",
        "print(f\"Filtered even: \\n{filtered_even}\")\n",
        "print(f\"Sum of even: \\n{sum_of_even}\\n\")\n",
        "\n",
        "# 3.\n",
        "tensor_4x3 = tf.constant([[1, 2, 3],\n",
        "                          [4, 5, 6],\n",
        "                          [7, 8, 9],\n",
        "                          [10, 11, 12]])\n",
        "sliced = tensor_4x3[2:, :]\n",
        "print(f\"Sliced last 2 rows: \\n{sliced}\\n\")\n",
        "\n",
        "# 4.\n",
        "tensor_2x3x2 = tf.constant([[[ 1,  2],\n",
        "                             [ 3,  4],\n",
        "                             [ 5,  6]],\n",
        "\n",
        "                            [[ 7,  8],\n",
        "                              [ 9, 10],\n",
        "                              [11, 12]]]\n",
        ")\n",
        "flattened_in_1d = tf.reshape(tensor_2x3x2, [-1])\n",
        "print(f\"Flattened: \\n{flattened_in_1d}\\n\")\n",
        "\n",
        "# 5.\n",
        "a = tf.constant([[1, 2], [10, 20]])\n",
        "b = tf.constant([[3, 4], [30, 40]])\n",
        "c = tf.constant([[5, 6], [50, 60]])\n",
        "\n",
        "stacked_axis_0 = tf.stack([a, b, c], axis=0)\n",
        "stacked_axis_1 = tf.stack([a, b, c], axis=1)\n",
        "print(f\"Stacked axis 0: \\n{stacked_axis_0}\")\n",
        "print(f\"Stacked axis 1: \\n{stacked_axis_1}\")"
      ],
      "metadata": {
        "id": "sV3weaeZoz1Z",
        "colab": {
          "base_uri": "https://localhost:8080/"
        },
        "outputId": "fd0c25ba-6f7f-4471-a4a0-3066217527a7"
      },
      "execution_count": 48,
      "outputs": [
        {
          "output_type": "stream",
          "name": "stdout",
          "text": [
            "Square root: \n",
            "[2. 4. 5. 6.]\n",
            "\n",
            "Filtered even: \n",
            "[ 8 22 40]\n",
            "Sum of even: \n",
            "70\n",
            "\n",
            "Sliced last 2 rows: \n",
            "[[ 7  8  9]\n",
            " [10 11 12]]\n",
            "\n",
            "Flattened: \n",
            "[ 1  2  3  4  5  6  7  8  9 10 11 12]\n",
            "\n",
            "Stacked axis 0: \n",
            "[[[ 1  2]\n",
            "  [10 20]]\n",
            "\n",
            " [[ 3  4]\n",
            "  [30 40]]\n",
            "\n",
            " [[ 5  6]\n",
            "  [50 60]]]\n",
            "Stacked axis 1: \n",
            "[[[ 1  2]\n",
            "  [ 3  4]\n",
            "  [ 5  6]]\n",
            "\n",
            " [[10 20]\n",
            "  [30 40]\n",
            "  [50 60]]]\n"
          ]
        }
      ]
    },
    {
      "cell_type": "markdown",
      "source": [
        "# Day 6: 🔥 TensorFlow Constants & Variables 🚀\n",
        "\n",
        "**Date: 16-02-2025**\n",
        "\n"
      ],
      "metadata": {
        "id": "VjysiUachg3n"
      }
    },
    {
      "cell_type": "markdown",
      "source": [
        "### 1️⃣ Constants in TensorFlow 📌\n",
        "\n",
        "#### **🔹 What is a TensorFlow Constant?**\n",
        "  \n",
        "   A **constant** is an **unchangeable** tensor, meaning once created, its value **cannot be modified**.\n",
        "\n",
        "#### **📌 Where will Vidyanix use this?**\n",
        "\n",
        "* ✅ Math Rules → Predefined values (like `π = 3.14`, `e = 2.71`)\n",
        "* ✅ Fixed Patterns → Store basic tricks & formulas like `(a + b)^2 = a^2 + 2ab + b^2`"
      ],
      "metadata": {
        "id": "6RXPb67hh7YE"
      }
    },
    {
      "cell_type": "code",
      "source": [
        "import tensorflow as tf\n",
        "\n",
        "# Creating constants\n",
        "c1 = tf.constant(10) # Scalar\n",
        "c2 = tf.constant([1, 2, 3]) # 1D tensor\n",
        "c3 = tf.constant([[1, 2], [3, 4]]) # 2D tensor\n",
        "\n",
        "print(f\"Constant Scalar: {c1}\")\n",
        "print(f\"Constant 1D: {c2}\")\n",
        "print(f\"Constant 2D: \\n{c3}\")"
      ],
      "metadata": {
        "id": "NsKdlQUGFi0r",
        "colab": {
          "base_uri": "https://localhost:8080/"
        },
        "outputId": "39058a53-571b-413e-f2ac-a4774aa2da47"
      },
      "execution_count": 49,
      "outputs": [
        {
          "output_type": "stream",
          "name": "stdout",
          "text": [
            "Constant Scalar: 10\n",
            "Constant 1D: [1 2 3]\n",
            "Constant 2D: \n",
            "[[1 2]\n",
            " [3 4]]\n"
          ]
        }
      ]
    },
    {
      "cell_type": "markdown",
      "source": [
        "### 2️⃣ Variables in TensorFlow 🎛️\n",
        "\n",
        "\n",
        "#### 🔹 What is a TensorFlow Variable?\n",
        "\n",
        "* Unlike constants, **variables can change** during training. They’re used for learning parameters (like weights & biases in Neural Networks).\n",
        "\n",
        "####📌 Where will Vidyanix use this?\n",
        "* ✅ Learning from user input → Adjust difficulty based on mistakes\n",
        "* ✅ Training models → Variables store weights & biases in AI"
      ],
      "metadata": {
        "id": "lIQ5FvvKkW7o"
      }
    },
    {
      "cell_type": "code",
      "source": [
        "# Creating a TensorFlow Variable\n",
        "v = tf.Variable(5)\n",
        "print(f\"Before change: {v.numpy()}\")\n",
        "\n",
        "# Changing the value\n",
        "v.assign(10)\n",
        "print(f\"After change: {v.numpy()}\")"
      ],
      "metadata": {
        "colab": {
          "base_uri": "https://localhost:8080/"
        },
        "id": "YNg5trUfjf4h",
        "outputId": "90a0aab9-b0b0-4c5a-e459-74a24f25a792"
      },
      "execution_count": 50,
      "outputs": [
        {
          "output_type": "stream",
          "name": "stdout",
          "text": [
            "Before change: 5\n",
            "After change: 10\n"
          ]
        }
      ]
    },
    {
      "cell_type": "markdown",
      "source": [
        "### Homework Day 6 – Quick Challenges 🚀\n",
        "\n",
        "* 1️⃣ Create a constant 3×3 matrix filled with `7`.\n",
        "* 2️⃣ Create a variable with value `20`, then change it to `50`.\n",
        "* 3️⃣ Create a constant tensor `[10, 20, 30]` and try to change `20` to `25` (What happens? 🤔)."
      ],
      "metadata": {
        "id": "7j8eZZL5mDlY"
      }
    },
    {
      "cell_type": "markdown",
      "source": [
        "#### Homework Review:\n",
        "\n",
        "Great work! 🚀🔥 Yes, you’re getting an error because **TensorFlow constants are immutable**, meaning you **can’t change their values** after creation.  \n",
        "\n",
        "But **if you really** want to \"modify\" a constant-like structure, here are two possible workarounds:  \n",
        "\n",
        "* ### ✅ **1. Convert it to a Variable (Recommended way)**\n",
        "```python\n",
        "tensor_var = tf.Variable([10, 20, 30])\n",
        "tensor_var[1].assign(25)  # Now, we can change the value!\n",
        "print(tensor_var.numpy())  # Output: [10 25 30]\n",
        "```\n",
        "> **Why?** Variables allow modification, unlike constants.  \n",
        "\n",
        "  ---\n",
        "\n",
        "* ### ✅ **2. Create a New Tensor (Alternative way)**\n",
        "```python\n",
        "tensor_new = tf.concat([[10], [25], [30]], axis=0)\n",
        "print(tensor_new.numpy())  # Output: [10 25 30]\n",
        "```\n",
        "> **Why?** Instead of modifying the tensor, this creates a **new** one with the desired change.  \n",
        "\n",
        "So, TensorFlow says, **“No modifications allowed!”** 🚫😆 But you can be sneaky and **recreate or use a variable** instead. 😏"
      ],
      "metadata": {
        "id": "3Rl0XDHUrdvB"
      }
    },
    {
      "cell_type": "code",
      "source": [
        "# 1.\n",
        "# 1st way\n",
        "matrix_3x3_1 = tf.constant([\n",
        "    [7, 7, 7],\n",
        "    [7, 7, 7],\n",
        "    [7, 7, 7]\n",
        "])\n",
        "\n",
        "# 2nd way\n",
        "matrix_3x3_2 = tf.constant(7, shape= (3, 3))\n",
        "\n",
        "print(f\"Constant 3x3 1st way: \\n{matrix_3x3_1}\\n\")\n",
        "print(f\"Constant 3x3 2nd way: \\n{matrix_3x3_2}\\n\")\n",
        "\n",
        "# 2.\n",
        "# Before change\n",
        "variable_before = tf.Variable(20)\n",
        "# After change\n",
        "variable_after = variable_before.assign(50)\n",
        "\n",
        "print(f\"Before change: {variable_before.numpy()}\")\n",
        "print(f\"After change: {variable_after.numpy()}\\n\")\n",
        "\n",
        "# 3.\n",
        "tensor = tf.constant([10, 20, 30])\n",
        "\n",
        "# Try to change 20 to 30\n",
        "# tensor[1] = 30\n",
        "# tensor[1].assign(30) # Gives the error\n",
        "print(f\"Try to change: {tensor}\")"
      ],
      "metadata": {
        "colab": {
          "base_uri": "https://localhost:8080/"
        },
        "id": "0mIeK2wuli1v",
        "outputId": "41ce46da-ece9-4180-bf8d-13a51c4a4688"
      },
      "execution_count": 51,
      "outputs": [
        {
          "output_type": "stream",
          "name": "stdout",
          "text": [
            "Constant 3x3 1st way: \n",
            "[[7 7 7]\n",
            " [7 7 7]\n",
            " [7 7 7]]\n",
            "\n",
            "Constant 3x3 2nd way: \n",
            "[[7 7 7]\n",
            " [7 7 7]\n",
            " [7 7 7]]\n",
            "\n",
            "Before change: 50\n",
            "After change: 50\n",
            "\n",
            "Try to change: [10 20 30]\n"
          ]
        }
      ]
    },
    {
      "cell_type": "markdown",
      "source": [
        "# Day 7: One-Hot Encoding 🔥 & Introduction to Neural Networks 🧠\n",
        "\n",
        "**Date: 17-02-2025**\n",
        "\n",
        "1. **One-Hot Encoding 🔥**\n",
        "2. **What is a Perceptron? 🤔**\n",
        "3. **Neurons, Weights & Biases**\n",
        "4. **Forward Propagation (How info moves!) 🚀**\n",
        "5. **Building a Simple Neural Network with TensorFlow**"
      ],
      "metadata": {
        "id": "bjFDKRoy8mj-"
      }
    },
    {
      "cell_type": "markdown",
      "source": [
        "### 1. One-Hot Encoding 🔥\n",
        "One-Hot Encoding is a way to convert categorical data into a format that works better for ML algorithms. It turns a category into a vector where only one element is \"hot\" (set to 1), and all others are 0.\n",
        "\n",
        "#### Example:\n",
        "\n",
        "Let’s say we have three categories: Red, Green, Blue.\n",
        "We convert them to one-hot vectors as:\n",
        "\n",
        "* Red → [1, 0, 0]\n",
        "* Green → [0, 1, 0]\n",
        "* Blue → [0, 0, 1]\n",
        "\n",
        "\n",
        "#### **In Vidyanix**:\n",
        "\n",
        "* One-hot encoding will be useful when you need to work with categorical labels or convert your math game input to something understandable by the neural network! 🎮\n"
      ],
      "metadata": {
        "id": "YgS_f_Ik-6Qw"
      }
    },
    {
      "cell_type": "code",
      "source": [
        "import tensorflow as tf\n",
        "\n",
        "# Categories\n",
        "categories = ['Red', 'Green', 'Blue']\n",
        "# Depth is the total number of categories\n",
        "one_hot = tf.one_hot([0, 1, 2], depth= 3)\n",
        "\n",
        "print(one_hot)"
      ],
      "metadata": {
        "id": "d3GLyNJcN1Ih",
        "colab": {
          "base_uri": "https://localhost:8080/"
        },
        "outputId": "a455645c-f9cf-41d3-e88f-b713dddd9532"
      },
      "execution_count": 52,
      "outputs": [
        {
          "output_type": "stream",
          "name": "stdout",
          "text": [
            "tf.Tensor(\n",
            "[[1. 0. 0.]\n",
            " [0. 1. 0.]\n",
            " [0. 0. 1.]], shape=(3, 3), dtype=float32)\n"
          ]
        }
      ]
    },
    {
      "cell_type": "markdown",
      "source": [
        "### 2. What is a Perceptron? 🤔\n",
        "A **Perceptron** is the simplest type of artificial neural network (ANN). It’s a single-layer binary classifier that helps decide between two classes (0 or 1).\n",
        "\n",
        "A **Perceptron** is a simple type of neural network, often considered the basic building block of deep learning. It’s a single-layer neural network that consists of inputs, weights, a bias, and an activation function.\n",
        "\n",
        "#### How It Works:\n",
        "* A perceptron takes input, multiplies each input by a weight, adds a bias, and then applies an activation function to decide the output.\n",
        "* It’s like the basic building block of a neural network!\n",
        "\n",
        "#### In Vidyanix:\n",
        "* We can use perceptrons to handle simple math tasks. For example, using it to classify whether a sum or product of two numbers is above or below a threshold! 💡\n",
        "\n"
      ],
      "metadata": {
        "id": "72rWjO4XAVgc"
      }
    },
    {
      "cell_type": "markdown",
      "source": [
        "### 3. Neurons, Weights & Biases\n",
        "\n",
        "* Neuron: It's a basic unit in the neural network, receiving input, processing it, and producing output.\n",
        "* Weights: They control the importance of the input features.\n",
        "* Biases: They adjust the output to better fit the data.\n",
        "\n",
        "In a neural network:\n",
        "\n",
        "* **Neurons** are the basic units that receive inputs, process them, and pass the output to the next layer.\n",
        "* **Weights** adjust how much influence each input has on the neuron’s output.\n",
        "* **Biases** are added to neurons to help adjust the output independently of the input values.\n",
        "\n",
        "**Mathematical Representation**:\n",
        "\n",
        "$$ y = f(∑(xi ⋅ wi) + b) $$\n",
        "\n",
        "Where:\n",
        "\n",
        "* 𝑥𝑖 = input values\n",
        "* 𝑤𝑖 = weights\n",
        "* b = bias\n",
        "* f = activation function (like ReLU or Sigmoid)\n",
        "\n",
        "\n",
        "#### In Vidyanix:\n",
        "\n",
        "* Neurons will help in learning patterns like addition or subtraction! Weights and biases will adjust based on the player’s performance and make the math AI smarter! 🎮🤖"
      ],
      "metadata": {
        "id": "W6HKH2DtBpii"
      }
    },
    {
      "cell_type": "markdown",
      "source": [
        "### 4. Forward Propagation (How info moves!) 🚀\n",
        "\n",
        "In a neural network, forward propagation is the process where input data is passed through the network, layer by layer, until an output is produced.\n",
        "\n",
        "#### Simple Steps:\n",
        "\n",
        "1. Input → Multiply by weights\n",
        "2. Add bias\n",
        "3. Pass through activation function (like ReLU or Sigmoid)\n",
        "4. Output\n",
        "\n",
        "Forward Propagation is the process by which information passes through the network:\n",
        "\n",
        "1. **Input Layer**: The model takes inputs (e.g., data).\n",
        "1. **Hidden Layers**: The inputs are multiplied by weights and added to the bias.\n",
        "1. **Activation Function**: The weighted sum is passed through an activation function.\n",
        "1. **Output Layer**: The final result is produced by the output layer, ready for classification or prediction.\n",
        "This process helps the network \"learn\" and make decisions based on the data.\n",
        "\n",
        "#### 🤔 In Vidyanix:\n",
        "\n",
        "* Forward propagation helps the math AI figure out the result for a problem (like calculating 2 + 3 or 3 * 5), all in real-time! 🔄💡"
      ],
      "metadata": {
        "id": "fCgG06jtCHdD"
      }
    },
    {
      "cell_type": "markdown",
      "source": [
        "### 5. Building a Simple Neural Network with TensorFlow 🔥\n",
        "\n",
        "Let's build a simple neural network for solving a math problem (like addition):\n",
        "\n",
        "#### In Vidyanix:\n",
        "\n",
        "* This will power up our AI’s ability to add numbers, and we’ll keep training it to get better results! 🎮💥"
      ],
      "metadata": {
        "id": "Z9P0iZpXC5zd"
      }
    },
    {
      "cell_type": "code",
      "source": [
        "import tensorflow as tf\n",
        "\n",
        "\n",
        "# Define the model\n",
        "model = tf.keras.Sequential([\n",
        "    # Input layer (2 input nuerons for 2 numbers)\n",
        "    tf.keras.layers.Dense(5),\n",
        "    # Output layer (1 output neuron for the result)\n",
        "    tf.keras.layers.Dense(1)\n",
        "])\n",
        "\n",
        "# Compile the model\n",
        "model.compile(optimizer = 'adam', loss='mse')\n",
        "\n",
        "# Sample data (input, output pairs for addition)\n",
        "# Input pairs (x1, x2)\n",
        "\n",
        "x_train = tf.constant([[1, 2], [2, 3], [3, 4], [4, 5], [6, 7], [7, 8],[8, 9], [9, 10], [10, 11], [11, 12]])\n",
        "y_train = tf.constant([3, 5, 7, 9, 13, 15, 17, 19, 21, 23]) # Output pairs (x1 + x2)\n",
        "\n",
        "\n",
        "# Train the model\n",
        "model.fit(x_train, y_train, epochs= 200, verbose= 0)\n",
        "\n",
        "# Test the model\n",
        "print(model.predict(tf.constant([[5, 6]]))) # Predicted output for 5 + 6"
      ],
      "metadata": {
        "colab": {
          "base_uri": "https://localhost:8080/"
        },
        "id": "hVjLPhG4_zLt",
        "outputId": "b9f2a6ae-3157-46d1-805d-c7046e507fae"
      },
      "execution_count": 53,
      "outputs": [
        {
          "output_type": "stream",
          "name": "stdout",
          "text": [
            "\u001b[1m1/1\u001b[0m \u001b[32m━━━━━━━━━━━━━━━━━━━━\u001b[0m\u001b[37m\u001b[0m \u001b[1m0s\u001b[0m 45ms/step\n",
            "[[2.626121]]\n"
          ]
        }
      ]
    },
    {
      "cell_type": "markdown",
      "source": [
        "### 📝 Homework Day 7 - from today’s learning:\n",
        "\n",
        "1. **One-Hot Encoding**: Create one-hot encoded vectors for the following colors: Red, Green, Yellow, Black. (4 categories) \\\n",
        "2. **Perceptron**: Create a simple perceptron using a neural network for a binary classification task, like predicting whether a number is even or odd based on its last digit. \\\n",
        "3. **Neurons & Weights**: Create a small model with 2 input neurons, 1 hidden layer with 2 neurons, and 1 output neuron. Define random weights and biases, and perform forward propagation with a random input.\n",
        "4. **Forward Propagation**: Implement forward propagation for a simple math operation like `x1 + x2` using a neural network with 2 inputs and 1 output.\n",
        "5. **Building a Simple Neural Network**: Use TensorFlow to build a small neural network that predicts the sum of two numbers. Train it with 5 pairs of numbers."
      ],
      "metadata": {
        "id": "9kkcEkg2_sSm"
      }
    },
    {
      "cell_type": "markdown",
      "source": [
        "#### 1️⃣ One-Hot Encoding\n",
        "\n",
        "We’ll encode the colors Red, Green, Yellow, Black into one-hot vectors."
      ],
      "metadata": {
        "id": "vg4dUk216gv7"
      }
    },
    {
      "cell_type": "code",
      "source": [
        "# 1.\n",
        "# List of colors\n",
        "colors = ['Red', 'Green', 'Yellow', 'Black']\n",
        "one_hot_encoded = tf.one_hot([0, 1, 2, 3], depth=4)\n",
        "print(one_hot_encoded)\n"
      ],
      "metadata": {
        "colab": {
          "base_uri": "https://localhost:8080/"
        },
        "id": "_Ilzoy59FCpk",
        "outputId": "c4cb426b-79b8-4bba-8082-64b9ccb70a7d"
      },
      "execution_count": 54,
      "outputs": [
        {
          "output_type": "stream",
          "name": "stdout",
          "text": [
            "tf.Tensor(\n",
            "[[1. 0. 0. 0.]\n",
            " [0. 1. 0. 0.]\n",
            " [0. 0. 1. 0.]\n",
            " [0. 0. 0. 1.]], shape=(4, 4), dtype=float32)\n"
          ]
        }
      ]
    },
    {
      "cell_type": "markdown",
      "source": [
        "#### 2️⃣ Perceptron for Even/Odd Classification\n",
        "\n",
        "A perceptron to classify whether a number is even (0) or odd (1).\n",
        "\n",
        "* Input: Last digit of a number\n",
        "* Output: 0 (Even) or 1 (Odd)"
      ],
      "metadata": {
        "id": "TJjIVjr06omg"
      }
    },
    {
      "cell_type": "code",
      "source": [
        "import numpy as np\n",
        "# 2.\n",
        "\n",
        "# Generate data: Last digits (0 to 9)\n",
        "# range start default is 0\n",
        "x_train = np.array([i for i in range (0, 10)])\n",
        "y_train = np.array([i % 2 for i in range(10)])\n",
        "\n",
        "print(f\"x_train - {x_train}, \\ny_train - {y_train}\")\n",
        "\n",
        "# Build the perceptron model\n",
        "model = tf.keras.Sequential([\n",
        "    # 1 neuron, sigmoid activation\n",
        "    tf.keras.layers.Dense(1, activation='sigmoid')\n",
        "])\n",
        "\n",
        "# compile the model\n",
        "model.compile(optimizer='adam', loss='binary_crossentropy', metrics=['accuracy'])\n",
        "\n",
        "# Train the model\n",
        "model.fit(tf.expand_dims(x_train, axis= -1), y_train, epochs=100, verbose = 0)\n",
        "\n",
        "# Test the model\n",
        "test_input = np.array([7]) # Example: predict for 7\n",
        "prediction = model.predict(test_input)\n",
        "print(f\"Prediction for 7: {prediction} \\n rounded - {prediction.round()}\")\n",
        "print(tf.expand_dims(x_train, axis= 1))"
      ],
      "metadata": {
        "colab": {
          "base_uri": "https://localhost:8080/"
        },
        "id": "I9AUJyMhHHBx",
        "outputId": "633c73ee-2ad5-4ac1-fe76-f9ee4099c26b"
      },
      "execution_count": 55,
      "outputs": [
        {
          "output_type": "stream",
          "name": "stdout",
          "text": [
            "x_train - [0 1 2 3 4 5 6 7 8 9], \n",
            "y_train - [0 1 0 1 0 1 0 1 0 1]\n",
            "\u001b[1m1/1\u001b[0m \u001b[32m━━━━━━━━━━━━━━━━━━━━\u001b[0m\u001b[37m\u001b[0m \u001b[1m0s\u001b[0m 53ms/step\n",
            "Prediction for 7: [[0.00953723]] \n",
            " rounded - [[0.]]\n",
            "tf.Tensor(\n",
            "[[0]\n",
            " [1]\n",
            " [2]\n",
            " [3]\n",
            " [4]\n",
            " [5]\n",
            " [6]\n",
            " [7]\n",
            " [8]\n",
            " [9]], shape=(10, 1), dtype=int64)\n"
          ]
        }
      ]
    },
    {
      "cell_type": "markdown",
      "source": [
        "#### 3️⃣ Neurons & Weights - Manual Forward Propagation\n",
        "\n",
        "Let’s manually define weights, biases, and forward propagation in a small 2-2-1 network."
      ],
      "metadata": {
        "id": "8JrFzPjo6t4g"
      }
    },
    {
      "cell_type": "code",
      "source": [
        "# 3.\n",
        "\n",
        "# Define input(x1, x2)\n",
        "x = np.array([1.5, 2.0]) # Random input\n",
        "\n",
        "# Define weights and biases\n",
        "# 2x2 weight matrix for output layer\n",
        "w1= np.array([[0.3, 0.5], [0.7, -0.4]])\n",
        "# Bias for hidden layer\n",
        "b1 = np.array([0.1, -0.2])\n",
        "\n",
        "# 2x1 wight matrix for output layer\n",
        "w2 = np.array([[0.6], [-0.3]])\n",
        "# Bias for output layer\n",
        "b2 = np.array([0.2])\n",
        "\n",
        "# Forward propogation\n",
        "hidden_layer = np.dot(x, w1) + b1 # Linear combination for hidden layer\n",
        "# ReLU activation\n",
        "hidden_layer_activation = np.maximum(0, hidden_layer)\n",
        "\n",
        "# Linear output\n",
        "output = np.dot(hidden_layer_activation, w2) + b2\n",
        "print(f\"Output of the network: {output}\")\n",
        "hidden_layer, hidden_layer_activation"
      ],
      "metadata": {
        "colab": {
          "base_uri": "https://localhost:8080/"
        },
        "id": "2U6gQCekzUt4",
        "outputId": "b2b8be5e-6271-447f-dd36-5d456951a098"
      },
      "execution_count": 56,
      "outputs": [
        {
          "output_type": "stream",
          "name": "stdout",
          "text": [
            "Output of the network: [1.37]\n"
          ]
        },
        {
          "output_type": "execute_result",
          "data": {
            "text/plain": [
              "(array([ 1.95, -0.25]), array([1.95, 0.  ]))"
            ]
          },
          "metadata": {},
          "execution_count": 56
        }
      ]
    },
    {
      "cell_type": "markdown",
      "source": [
        "#### 4️⃣ Forward Propagation for x1 + x2\n",
        "\n",
        "A small neural network to predict x1 + x2:"
      ],
      "metadata": {
        "id": "YJH6cOzb6_dZ"
      }
    },
    {
      "cell_type": "code",
      "source": [
        "# 4.\n",
        "\n",
        "# Training data (x1, x2) → (sum)\n",
        "# Inputs\n",
        "x_train = np.array([[1, 2], [2, 3], [3, 4], [4, 5]])\n",
        "# Output\n",
        "y_train = np.array([3, 5, 7, 9])\n",
        "\n",
        "# Define model\n",
        "model = tf.keras.Sequential([\n",
        "    tf.keras.layers.Dense(1, input_shape=(2,))\n",
        "])\n",
        "\n",
        "# Compile and train\n",
        "model.compile(optimizer='adam', loss='mse')\n",
        "model.fit(x_train, y_train, epochs=100, verbose=0)\n",
        "\n",
        "# Test prediction\n",
        "# Should be close to 5+6=11\n",
        "print(f\"Prediction: {model.predict(tf.constant([[5, 6]]))}\")\n",
        "print(np.array([[1, 2], [2, 3], [3, 4], [4, 5]]).ndim,tf.constant([[5, 6]]).ndim)"
      ],
      "metadata": {
        "colab": {
          "base_uri": "https://localhost:8080/"
        },
        "id": "XHKIW10o7FBq",
        "outputId": "6ab01976-9cb1-491c-ee5e-ab6ac79ac43a"
      },
      "execution_count": 57,
      "outputs": [
        {
          "output_type": "stream",
          "name": "stderr",
          "text": [
            "/usr/local/lib/python3.11/dist-packages/keras/src/layers/core/dense.py:87: UserWarning: Do not pass an `input_shape`/`input_dim` argument to a layer. When using Sequential models, prefer using an `Input(shape)` object as the first layer in the model instead.\n",
            "  super().__init__(activity_regularizer=activity_regularizer, **kwargs)\n"
          ]
        },
        {
          "output_type": "stream",
          "name": "stdout",
          "text": [
            "\u001b[1m1/1\u001b[0m \u001b[32m━━━━━━━━━━━━━━━━━━━━\u001b[0m\u001b[37m\u001b[0m \u001b[1m0s\u001b[0m 59ms/step\n",
            "Prediction: [[10.042625]]\n",
            "2 2\n"
          ]
        }
      ]
    },
    {
      "cell_type": "markdown",
      "source": [
        "#### 5️⃣ Building a Neural Network for Sum Prediction\n",
        "\n",
        "Same as above but with a better structure:"
      ],
      "metadata": {
        "id": "wwoxgZ8kPY2O"
      }
    },
    {
      "cell_type": "code",
      "source": [
        "# 5.\n",
        "\n",
        "# Training data\n",
        "x_train = np.array([[1, 2], [2, 3], [3, 4], [4, 5], [5, 6]]) # Inputs(x1, x2)\n",
        "y_train = np.array([3, 5, 7, 9, 11]) # Outputs (x1 + x2)\n",
        "\n",
        "# Define the model\n",
        "model = tf.keras.Sequential([\n",
        "    # Hidden layer with 5 neurons\n",
        "    tf.keras.layers.Dense(5, activation='relu'),\n",
        "    tf.keras.layers.Dense(1) # Output layer\n",
        "])\n",
        "\n",
        "# Compile the model\n",
        "model.compile(optimizer='adam', loss= 'mse')\n",
        "\n",
        "# Train the model\n",
        "model.fit(x_train, y_train, epochs= 100, verbose=0)\n",
        "\n",
        "# Test\n",
        "# Should be close to 7+8=15\n",
        "print(model.predict(tf.constant([[7, 8]])))"
      ],
      "metadata": {
        "id": "90mgTYNCPlB2",
        "colab": {
          "base_uri": "https://localhost:8080/"
        },
        "outputId": "48dffba4-6442-42e0-8e17-c6d8c2f7795a"
      },
      "execution_count": 58,
      "outputs": [
        {
          "output_type": "stream",
          "name": "stdout",
          "text": [
            "\u001b[1m1/1\u001b[0m \u001b[32m━━━━━━━━━━━━━━━━━━━━\u001b[0m\u001b[37m\u001b[0m \u001b[1m0s\u001b[0m 102ms/step\n",
            "[[-3.630172]]\n"
          ]
        }
      ]
    },
    {
      "cell_type": "markdown",
      "source": [
        "### Extra Practice 🚀"
      ],
      "metadata": {
        "id": "__DGPoMy-rfR"
      }
    },
    {
      "cell_type": "code",
      "source": [
        "import tensorflow as tf\n",
        "from tensorflow.keras.models import Sequential\n",
        "from tensorflow.keras.layers import Dense\n",
        "\n",
        "# Define a simple neural network\n",
        "model = Sequential([\n",
        "    Dense(10, activation='relu', input_shape=(1,)),  # Hidden layer with 10 neurons\n",
        "    Dense(1, activation='sigmoid')  # Output layer with 1 neuron\n",
        "])\n",
        "\n",
        "model.compile(optimizer='adam', loss='binary_crossentropy', metrics=['accuracy'])\n",
        "\n",
        "# Training data: Numbers and labels (1 if even, 0 if odd)\n",
        "X = tf.constant([1, 2, 3, 4, 5, 6, 7, 8, 9], dtype=tf.float32)\n",
        "y = tf.constant([0, 1, 0, 1, 0, 1, 0, 1, 0], dtype=tf.float32)\n",
        "\n",
        "# Train the model\n",
        "model.fit(X, y, epochs=100, verbose= 0)\n",
        "\n",
        "print(model.predict(tf.constant([10])))\n"
      ],
      "metadata": {
        "colab": {
          "base_uri": "https://localhost:8080/"
        },
        "id": "NNblw2mmGYDk",
        "outputId": "2699172b-5f95-4084-de99-0e00aac3808d"
      },
      "execution_count": 59,
      "outputs": [
        {
          "output_type": "stream",
          "name": "stderr",
          "text": [
            "WARNING:tensorflow:5 out of the last 5 calls to <function TensorFlowTrainer.make_predict_function.<locals>.one_step_on_data_distributed at 0x795b952732e0> triggered tf.function retracing. Tracing is expensive and the excessive number of tracings could be due to (1) creating @tf.function repeatedly in a loop, (2) passing tensors with different shapes, (3) passing Python objects instead of tensors. For (1), please define your @tf.function outside of the loop. For (2), @tf.function has reduce_retracing=True option that can avoid unnecessary retracing. For (3), please refer to https://www.tensorflow.org/guide/function#controlling_retracing and https://www.tensorflow.org/api_docs/python/tf/function for  more details.\n"
          ]
        },
        {
          "output_type": "stream",
          "name": "stdout",
          "text": [
            "\u001b[1m1/1\u001b[0m \u001b[32m━━━━━━━━━━━━━━━━━━━━\u001b[0m\u001b[37m\u001b[0m \u001b[1m0s\u001b[0m 63ms/step\n",
            "[[0.93624926]]\n"
          ]
        }
      ]
    },
    {
      "cell_type": "markdown",
      "source": [
        "# 🚀 Day 8: Activation Power Unleashed!\n",
        "📅 Date: 23-02-2025\n",
        "\n",
        "#### 🔹 Topics We’ll Cover Today:\n",
        "✅ What are Activation Functions? (Why do we need them?)\n",
        "\n",
        "✅ Types of Activation Functions:\n",
        "\n",
        "  * Step Function (The Ancient One 😆)\n",
        "  * Sigmoid (The Smooth One 📉)\n",
        "  * Tanh (The Balanced One 🔄)\n",
        "  * ReLU (The King 👑)\n",
        "  * Leaky ReLU (The Problem Solver 🛠️)\n",
        "  * Softmax (For Multi-Class Battles ⚔️)\n",
        "\n",
        "✅ Which Activation Function to Use & When?\n",
        "\n",
        "✅ Hands-on with Activation Functions in TensorFlow!\n"
      ],
      "metadata": {
        "id": "SAMMDKSqDRip"
      }
    },
    {
      "cell_type": "markdown",
      "source": [
        "**🔥 Topics We’ll Cover Today**\n",
        "\n",
        "### ✅ 1. What are Activation Functions? (Why do we need them?)\n",
        "Before we jump into deep waters, let’s first answer a simple question:\n",
        "\"What makes neural networks powerful compared to simple linear models?\"\n",
        "\n",
        "The answer: Activation Functions! 🚀\n",
        "\n",
        "Without activation functions, a neural network is just a fancy linear regression model. 😆 It won’t be able to learn complex patterns, non-linearity, or deep insights. Activation functions introduce non-linearity, allowing our network to solve real-world problems like image recognition, speech processing, and, of course, Vidyanix’s math magic! ✨"
      ],
      "metadata": {
        "id": "7MLB4m9-L9Ab"
      }
    },
    {
      "cell_type": "markdown",
      "source": [
        "### ✅ **2. Types of Activation Functions**\n",
        "\n",
        "Let’s meet the **Activation Legends** that rule the world of deep learning!\n",
        "\n",
        "### 🟡 **(i) Step Function** – The Ancient One 😆\n",
        "\n",
        "- **Equation:**\n",
        "\n",
        "$$\n",
        "f(x) =\n",
        "\\begin{cases}\n",
        "1, & x > 0 \\\\\n",
        "0, & x \\leq 0\n",
        "\\end{cases}\n",
        "$$\n",
        "    \n",
        "- **Used in:** Old-school perceptrons.\n",
        "- **Problem?** It’s too **harsh**—either **ON (1) or OFF (0)**—not good for smooth learning.\n",
        "\n",
        "### 🟢 **(ii) Sigmoid Function** – The Smooth One 📉\n",
        "\n",
        "- **Equation:**\n",
        "    \n",
        "    $$\n",
        "    \\sigma(x) = \\frac{1}{1 + e^{-x}}\n",
        "    $$\n",
        "    \n",
        "- **Used in:** Probability outputs (0 to 1), good for binary classification.\n",
        "- **Problem?** Can cause **vanishing gradient**, making deep networks hard to train.\n",
        "\n",
        "### 🔵 **(iii) Tanh Function** – The Balanced One 🔄\n",
        "\n",
        "- **Equation:**\n",
        "    \n",
        "    $$\n",
        "    \\tanh(x) = \\frac{e^x - e^{-x}}{e^x + e^{-x}}\n",
        "    $$\n",
        "    \n",
        "- **Used in:** Normalizing values between **1 and 1**.\n",
        "- **Better than Sigmoid?** Yes, because it’s centered around **0**, making training stable.\n",
        "\n",
        "### 🔴 **(iv) ReLU (Rectified Linear Unit)** – The King 👑\n",
        "\n",
        "- **Equation:**\n",
        "    \n",
        "    $$\n",
        "    f(x) = \\max(0, x)\n",
        "    $$\n",
        "    \n",
        "- **Used in:** **Most modern neural networks.**\n",
        "- **Why so popular?**\n",
        "    - Fast & simple\n",
        "    - Doesn’t suffer from vanishing gradients\n",
        "- **Problem?** Dead neurons (if input is negative).\n",
        "\n",
        "### 🟠 **(v) Leaky ReLU** – The Problem Solver 🛠️\n",
        "\n",
        "- **Equation:**\n",
        "\n",
        "$$\n",
        "f(x) =\n",
        "\\begin{cases}\n",
        "    x, & \\text{if } x > 0 \\\\\n",
        "    0.01x, & \\text{if } x \\leq 0\n",
        "\\end{cases}\n",
        "$$\n",
        "\n",
        "- **Why use it?** It fixes **ReLU’s dead neurons** issue.\n",
        "\n",
        "### ⚫ **(vi) Softmax Function** – For Multi-Class Battles ⚔️\n",
        "\n",
        "- **Equation:**\n",
        "    \n",
        "    $${\n",
        "    \\sigma(x_i) = \\frac{e^{x_i}}{\\sum_{j} e^{x_j}}\n",
        "    }$$\n",
        "    \n",
        "- **Used in:** **Multi-class classification problems** (like recognizing different animals, colors, or numbers).\n",
        "- **Why?** It converts values into probabilities summing to **1**."
      ],
      "metadata": {
        "id": "a07zHrw1Md-f"
      }
    },
    {
      "cell_type": "code",
      "source": [
        "import tensorflow as tf\n",
        "import matplotlib.pyplot as plt\n",
        "import numpy as np\n",
        "\n",
        "# Input values\n",
        "x = np.linspace(-10, 10, 100)\n",
        "\n",
        "# Activation functions\n",
        "sigmoid = tf.sigmoid(x)\n",
        "tanh= tf.tanh(x)\n",
        "relu = tf.nn.relu(x)\n",
        "leaky_relu = tf.nn.leaky_relu(x)\n",
        "# softmax = tf.nn.softmax(x)\n",
        "\n",
        "# Plotting\n",
        "plt.figure(figsize=(7, 5))\n",
        "plt.plot(x, sigmoid, label=\"Sigmoid\")\n",
        "plt.plot(x, tanh, label=\"Tanh\")\n",
        "plt.plot(x, relu, label=\"ReLU\")\n",
        "plt.plot(x, leaky_relu, label=\"Leaky ReLU\")\n",
        "# plt.plot(x, softmax, label=\"SoftMax\")\n",
        "\n",
        "plt.title(\"Activation Functions\")\n",
        "plt.legend()\n",
        "plt.grid()\n",
        "plt.show()"
      ],
      "metadata": {
        "id": "xjdIrfWzOw-U",
        "colab": {
          "base_uri": "https://localhost:8080/",
          "height": 468
        },
        "outputId": "18140a40-1d52-432a-a622-67304d3b7349"
      },
      "execution_count": 60,
      "outputs": [
        {
          "output_type": "display_data",
          "data": {
            "text/plain": [
              "<Figure size 700x500 with 1 Axes>"
            ],
            "image/png": "[encoded data removed]"
          },
          "metadata": {}
        }
      ]
    },
    {
      "cell_type": "markdown",
      "source": [
        "### Example 2: Softmax for Multi-Class"
      ],
      "metadata": {
        "id": "4NrVdkbFH9XD"
      }
    },
    {
      "cell_type": "code",
      "source": [
        "logits = tf.constant([2.0, 1.0, 0.1])\n",
        "softmax_output = tf.nn.softmax(logits)\n",
        "print(f\"Softmax Output: {softmax_output.numpy()}\")\n",
        "print(f\"{np.sum(softmax_output):.4f}\")"
      ],
      "metadata": {
        "colab": {
          "base_uri": "https://localhost:8080/"
        },
        "id": "3viyhBhOEZKA",
        "outputId": "3b1cbde7-1aa9-44d2-bf8d-4af9b053d7ec"
      },
      "execution_count": 61,
      "outputs": [
        {
          "output_type": "stream",
          "name": "stdout",
          "text": [
            "Softmax Output: [0.6590012  0.24243298 0.09856589]\n",
            "1.0000\n"
          ]
        }
      ]
    },
    {
      "cell_type": "markdown",
      "source": [
        "### 📝 Homework from Today’s Learning\n",
        "🎯 Test your skills with these challenges!\n",
        "\n",
        "* 1️⃣ Plot & Compare: Create a graph comparing Sigmoid, Tanh, ReLU, and Leaky ReLU activation functions. (Hint: Use matplotlib like we did above!)\n",
        "\n",
        "* 2️⃣ Experiment: Apply different activation functions to a simple neural network and observe how they affect training performance.\n",
        "\n",
        "* 3️⃣ Softmax in Action:\n",
        "\n",
        "  * Create a neural network that classifies fruits (Apple, Banana, Mango) using Softmax activation.\n",
        "  * Use one-hot encoding for labels.\n",
        "\n",
        "* 4️⃣ Custom Activation: Implement your own activation function in TensorFlow and test it. Example:\n",
        "\n",
        "$$\n",
        "  f(x)=x^2 \\ if x>0,\\ else − 0.5x\n",
        "$$\n",
        "\n"
      ],
      "metadata": {
        "id": "u1gd4S6OJKr6"
      }
    },
    {
      "cell_type": "code",
      "source": [
        "# 1.\n",
        "\n",
        "x = np.linspace(-10, 10, 100)\n",
        "\n",
        "# Activation functions\n",
        "step = np.where(x >= 0, 1, 0)\n",
        "sigmoid = tf.nn.sigmoid(x)\n",
        "tanh = tf.nn.tanh(x)\n",
        "relu = tf.nn.relu(x)\n",
        "leaky_relu = tf.nn.leaky_relu(x, alpha= 0.1)\n",
        "softmax = tf.nn.softmax(x)\n",
        "\n",
        "# Plot\n",
        "plt.figure(figsize= (7, 5))\n",
        "plt.plot(x, step, label=\"Step\")\n",
        "plt.plot(x, sigmoid, label=\"Sigmoid\")\n",
        "plt.plot(x, tanh, label=\"Tanh\")\n",
        "plt.plot(x, relu, label=\"ReLU\")\n",
        "plt.plot(x, leaky_relu, label=\"Leaky ReLU\")\n",
        "plt.plot(x, softmax, label=\"SoftMax\")\n",
        "plt.legend()\n",
        "plt.title(\"Activation Functions\")\n",
        "plt.grid()\n",
        "plt.show()"
      ],
      "metadata": {
        "id": "3J1ZyIDhHl0x",
        "colab": {
          "base_uri": "https://localhost:8080/",
          "height": 468
        },
        "outputId": "e28745bd-0a7e-435f-c06e-b6bd7d2ec483"
      },
      "execution_count": 62,
      "outputs": [
        {
          "output_type": "display_data",
          "data": {
            "text/plain": [
              "<Figure size 700x500 with 1 Axes>"
            ],
            "image/png": "[encoded data removed]"
          },
          "metadata": {}
        }
      ]
    },
    {
      "cell_type": "code",
      "source": [
        "# 2.\n",
        "import tensorflow as tf\n",
        "from tensorflow import keras\n",
        "from tensorflow.keras import layers\n",
        "\n",
        "model = keras.Sequential([\n",
        "    layers.Dense(10, activation=\"relu\"), # ReLU\n",
        "    layers.Dense(5, activation=\"sigmoid\"), # Sigmoid\n",
        "    layers.Dense(3, activation=\"softmax\") # Softmax\n",
        "])\n",
        "\n",
        "\n",
        "model.summary()\n"
      ],
      "metadata": {
        "colab": {
          "base_uri": "https://localhost:8080/",
          "height": 225
        },
        "id": "dehrgyOUOUZR",
        "outputId": "74b03924-da28-47da-b37a-468f089e9189"
      },
      "execution_count": 63,
      "outputs": [
        {
          "output_type": "display_data",
          "data": {
            "text/plain": [
              "\u001b[1mModel: \"sequential_5\"\u001b[0m\n"
            ],
            "text/html": [
              "<pre style=\"white-space:pre;overflow-x:auto;line-height:normal;font-family:Menlo,'DejaVu Sans Mono',consolas,'Courier New',monospace\"><span style=\"font-weight: bold\">Model: \"sequential_5\"</span>\n",
              "</pre>\n"
            ]
          },
          "metadata": {}
        },
        {
          "output_type": "display_data",
          "data": {
            "text/plain": [
              "┏━━━━━━━━━━━━━━━━━━━━━━━━━━━━━━━━━━━━━━┳━━━━━━━━━━━━━━━━━━━━━━━━━━━━━┳━━━━━━━━━━━━━━━━━┓\n",
              "┃\u001b[1m \u001b[0m\u001b[1mLayer (type)                        \u001b[0m\u001b[1m \u001b[0m┃\u001b[1m \u001b[0m\u001b[1mOutput Shape               \u001b[0m\u001b[1m \u001b[0m┃\u001b[1m \u001b[0m\u001b[1m        Param #\u001b[0m\u001b[1m \u001b[0m┃\n",
              "┡━━━━━━━━━━━━━━━━━━━━━━━━━━━━━━━━━━━━━━╇━━━━━━━━━━━━━━━━━━━━━━━━━━━━━╇━━━━━━━━━━━━━━━━━┩\n",
              "│ dense_8 (\u001b[38;5;33mDense\u001b[0m)                      │ ?                           │     \u001b[38;5;34m0\u001b[0m (unbuilt) │\n",
              "├──────────────────────────────────────┼─────────────────────────────┼─────────────────┤\n",
              "│ dense_9 (\u001b[38;5;33mDense\u001b[0m)                      │ ?                           │     \u001b[38;5;34m0\u001b[0m (unbuilt) │\n",
              "├──────────────────────────────────────┼─────────────────────────────┼─────────────────┤\n",
              "│ dense_10 (\u001b[38;5;33mDense\u001b[0m)                     │ ?                           │     \u001b[38;5;34m0\u001b[0m (unbuilt) │\n",
              "└──────────────────────────────────────┴─────────────────────────────┴─────────────────┘\n"
            ],
            "text/html": [
              "<pre style=\"white-space:pre;overflow-x:auto;line-height:normal;font-family:Menlo,'DejaVu Sans Mono',consolas,'Courier New',monospace\">┏━━━━━━━━━━━━━━━━━━━━━━━━━━━━━━━━━━━━━━┳━━━━━━━━━━━━━━━━━━━━━━━━━━━━━┳━━━━━━━━━━━━━━━━━┓\n",
              "┃<span style=\"font-weight: bold\"> Layer (type)                         </span>┃<span style=\"font-weight: bold\"> Output Shape                </span>┃<span style=\"font-weight: bold\">         Param # </span>┃\n",
              "┡━━━━━━━━━━━━━━━━━━━━━━━━━━━━━━━━━━━━━━╇━━━━━━━━━━━━━━━━━━━━━━━━━━━━━╇━━━━━━━━━━━━━━━━━┩\n",
              "│ dense_8 (<span style=\"color: #0087ff; text-decoration-color: #0087ff\">Dense</span>)                      │ ?                           │     <span style=\"color: #00af00; text-decoration-color: #00af00\">0</span> (unbuilt) │\n",
              "├──────────────────────────────────────┼─────────────────────────────┼─────────────────┤\n",
              "│ dense_9 (<span style=\"color: #0087ff; text-decoration-color: #0087ff\">Dense</span>)                      │ ?                           │     <span style=\"color: #00af00; text-decoration-color: #00af00\">0</span> (unbuilt) │\n",
              "├──────────────────────────────────────┼─────────────────────────────┼─────────────────┤\n",
              "│ dense_10 (<span style=\"color: #0087ff; text-decoration-color: #0087ff\">Dense</span>)                     │ ?                           │     <span style=\"color: #00af00; text-decoration-color: #00af00\">0</span> (unbuilt) │\n",
              "└──────────────────────────────────────┴─────────────────────────────┴─────────────────┘\n",
              "</pre>\n"
            ]
          },
          "metadata": {}
        },
        {
          "output_type": "display_data",
          "data": {
            "text/plain": [
              "\u001b[1m Total params: \u001b[0m\u001b[38;5;34m0\u001b[0m (0.00 B)\n"
            ],
            "text/html": [
              "<pre style=\"white-space:pre;overflow-x:auto;line-height:normal;font-family:Menlo,'DejaVu Sans Mono',consolas,'Courier New',monospace\"><span style=\"font-weight: bold\"> Total params: </span><span style=\"color: #00af00; text-decoration-color: #00af00\">0</span> (0.00 B)\n",
              "</pre>\n"
            ]
          },
          "metadata": {}
        },
        {
          "output_type": "display_data",
          "data": {
            "text/plain": [
              "\u001b[1m Trainable params: \u001b[0m\u001b[38;5;34m0\u001b[0m (0.00 B)\n"
            ],
            "text/html": [
              "<pre style=\"white-space:pre;overflow-x:auto;line-height:normal;font-family:Menlo,'DejaVu Sans Mono',consolas,'Courier New',monospace\"><span style=\"font-weight: bold\"> Trainable params: </span><span style=\"color: #00af00; text-decoration-color: #00af00\">0</span> (0.00 B)\n",
              "</pre>\n"
            ]
          },
          "metadata": {}
        },
        {
          "output_type": "display_data",
          "data": {
            "text/plain": [
              "\u001b[1m Non-trainable params: \u001b[0m\u001b[38;5;34m0\u001b[0m (0.00 B)\n"
            ],
            "text/html": [
              "<pre style=\"white-space:pre;overflow-x:auto;line-height:normal;font-family:Menlo,'DejaVu Sans Mono',consolas,'Courier New',monospace\"><span style=\"font-weight: bold\"> Non-trainable params: </span><span style=\"color: #00af00; text-decoration-color: #00af00\">0</span> (0.00 B)\n",
              "</pre>\n"
            ]
          },
          "metadata": {}
        }
      ]
    },
    {
      "cell_type": "code",
      "source": [
        "# 3.\n",
        "\n",
        "# Fake training data (5 samples, 2 features each)\n",
        "x_train = np.random.rand(5, 2)\n",
        "y_train = np.array([0, 1, 2, 1, 0]) # 0 = Apple, 1 = Banana, 2 = Mango\n",
        "\n",
        "y_train_one_hot = keras.utils.to_categorical(y_train,  num_classes= 3)\n",
        "\n",
        "# Build Model\n",
        "model = keras.Sequential([\n",
        "    layers.Dense(8, activation=\"relu\"),\n",
        "    # Softmax for multi-class classification\n",
        "    layers.Dense(3, activation=\"softmax\")\n",
        "])\n",
        "\n",
        "# Compile and Train\n",
        "model.compile(optimizer=\"adam\",\n",
        "              loss=\"categorical_crossentropy\",\n",
        "              metrics=[\"accuracy\"])\n",
        "model.fit(x_train, y_train_one_hot, epochs= 10, verbose=1)\n",
        "\n",
        "print(y_train_one_hot)\n",
        "print(tf.one_hot([0, 1, 2, 1, 0], depth=3))"
      ],
      "metadata": {
        "colab": {
          "base_uri": "https://localhost:8080/"
        },
        "id": "4CsM4TYRPc-M",
        "outputId": "72a0e1e4-5903-4f80-e4ba-2e4c139b215a"
      },
      "execution_count": 64,
      "outputs": [
        {
          "output_type": "stream",
          "name": "stdout",
          "text": [
            "Epoch 1/10\n",
            "\u001b[1m1/1\u001b[0m \u001b[32m━━━━━━━━━━━━━━━━━━━━\u001b[0m\u001b[37m\u001b[0m \u001b[1m1s\u001b[0m 1s/step - accuracy: 0.4000 - loss: 1.0210\n",
            "Epoch 2/10\n",
            "\u001b[1m1/1\u001b[0m \u001b[32m━━━━━━━━━━━━━━━━━━━━\u001b[0m\u001b[37m\u001b[0m \u001b[1m0s\u001b[0m 57ms/step - accuracy: 0.4000 - loss: 1.0198\n",
            "Epoch 3/10\n",
            "\u001b[1m1/1\u001b[0m \u001b[32m━━━━━━━━━━━━━━━━━━━━\u001b[0m\u001b[37m\u001b[0m \u001b[1m0s\u001b[0m 63ms/step - accuracy: 0.4000 - loss: 1.0186\n",
            "Epoch 4/10\n",
            "\u001b[1m1/1\u001b[0m \u001b[32m━━━━━━━━━━━━━━━━━━━━\u001b[0m\u001b[37m\u001b[0m \u001b[1m0s\u001b[0m 58ms/step - accuracy: 0.4000 - loss: 1.0175\n",
            "Epoch 5/10\n",
            "\u001b[1m1/1\u001b[0m \u001b[32m━━━━━━━━━━━━━━━━━━━━\u001b[0m\u001b[37m\u001b[0m \u001b[1m0s\u001b[0m 59ms/step - accuracy: 0.4000 - loss: 1.0163\n",
            "Epoch 6/10\n",
            "\u001b[1m1/1\u001b[0m \u001b[32m━━━━━━━━━━━━━━━━━━━━\u001b[0m\u001b[37m\u001b[0m \u001b[1m0s\u001b[0m 45ms/step - accuracy: 0.4000 - loss: 1.0152\n",
            "Epoch 7/10\n",
            "\u001b[1m1/1\u001b[0m \u001b[32m━━━━━━━━━━━━━━━━━━━━\u001b[0m\u001b[37m\u001b[0m \u001b[1m0s\u001b[0m 49ms/step - accuracy: 0.4000 - loss: 1.0140\n",
            "Epoch 8/10\n",
            "\u001b[1m1/1\u001b[0m \u001b[32m━━━━━━━━━━━━━━━━━━━━\u001b[0m\u001b[37m\u001b[0m \u001b[1m0s\u001b[0m 60ms/step - accuracy: 0.4000 - loss: 1.0129\n",
            "Epoch 9/10\n",
            "\u001b[1m1/1\u001b[0m \u001b[32m━━━━━━━━━━━━━━━━━━━━\u001b[0m\u001b[37m\u001b[0m \u001b[1m0s\u001b[0m 46ms/step - accuracy: 0.4000 - loss: 1.0118\n",
            "Epoch 10/10\n",
            "\u001b[1m1/1\u001b[0m \u001b[32m━━━━━━━━━━━━━━━━━━━━\u001b[0m\u001b[37m\u001b[0m \u001b[1m0s\u001b[0m 50ms/step - accuracy: 0.4000 - loss: 1.0106\n",
            "[[1. 0. 0.]\n",
            " [0. 1. 0.]\n",
            " [0. 0. 1.]\n",
            " [0. 1. 0.]\n",
            " [1. 0. 0.]]\n",
            "tf.Tensor(\n",
            "[[1. 0. 0.]\n",
            " [0. 1. 0.]\n",
            " [0. 0. 1.]\n",
            " [0. 1. 0.]\n",
            " [1. 0. 0.]], shape=(5, 3), dtype=float32)\n"
          ]
        }
      ]
    },
    {
      "cell_type": "code",
      "source": [
        "# 4.\n",
        "import tensorflow.keras.backend as K\n",
        "\n",
        "# Custom activation function\n",
        "def custom_activation(x):\n",
        "  return K.switch(x < 0, -0.5, x)\n",
        "\n",
        "# Apply in a model\n",
        "model = keras.Sequential([\n",
        "    layers.Dense(10, activation=custom_activation)\n",
        "])\n",
        "\n",
        "print(\"Custom activation applied successfully!\")"
      ],
      "metadata": {
        "id": "U26FZ9m1TShN",
        "colab": {
          "base_uri": "https://localhost:8080/"
        },
        "outputId": "d358dff9-d6cd-4df5-bfa9-f178e71b6762"
      },
      "execution_count": 68,
      "outputs": [
        {
          "output_type": "stream",
          "name": "stdout",
          "text": [
            "Custom activation applied successfully!\n"
          ]
        }
      ]
    }
  ]
}